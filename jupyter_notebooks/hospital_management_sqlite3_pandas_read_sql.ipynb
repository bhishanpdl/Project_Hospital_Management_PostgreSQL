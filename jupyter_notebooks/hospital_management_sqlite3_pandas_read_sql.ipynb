{
 "cells": [
  {
   "cell_type": "markdown",
   "metadata": {
    "toc": true
   },
   "source": [
    "<h1>Table of Contents<span class=\"tocSkip\"></span></h1>\n",
    "<div class=\"toc\"><ul class=\"toc-item\"><li><span><a href=\"#Introduction\" data-toc-modified-id=\"Introduction-1\"><span class=\"toc-item-num\">1&nbsp;&nbsp;</span>Introduction</a></span></li><li><span><a href=\"#Imports\" data-toc-modified-id=\"Imports-2\"><span class=\"toc-item-num\">2&nbsp;&nbsp;</span>Imports</a></span></li><li><span><a href=\"#Create-Tables\" data-toc-modified-id=\"Create-Tables-3\"><span class=\"toc-item-num\">3&nbsp;&nbsp;</span>Create Tables</a></span></li><li><span><a href=\"#Head-of-All-data\" data-toc-modified-id=\"Head-of-All-data-4\"><span class=\"toc-item-num\">4&nbsp;&nbsp;</span>Head of All data</a></span></li><li><span><a href=\"#Exercise-Questions\" data-toc-modified-id=\"Exercise-Questions-5\"><span class=\"toc-item-num\">5&nbsp;&nbsp;</span>Exercise Questions</a></span><ul class=\"toc-item\"><li><span><a href=\"#Q1:-Obtain-the-names-of-all-physicians-that-have-performed-a-medical-procedure-they-have-never-been-certified-to-perform.\" data-toc-modified-id=\"Q1:-Obtain-the-names-of-all-physicians-that-have-performed-a-medical-procedure-they-have-never-been-certified-to-perform.-5.1\"><span class=\"toc-item-num\">5.1&nbsp;&nbsp;</span>Q1: Obtain the names of all physicians that have performed a medical procedure they have never been certified to perform.</a></span></li><li><span><a href=\"#Q2:-Same-as-the-previous-query,-but-include-the-following-information-in-the-results:-Physician-name,-name-of-procedure,-date-when-the-procedure-was-carried-out,-name-of-the-patient-the-procedure-was-carried-out-on.\" data-toc-modified-id=\"Q2:-Same-as-the-previous-query,-but-include-the-following-information-in-the-results:-Physician-name,-name-of-procedure,-date-when-the-procedure-was-carried-out,-name-of-the-patient-the-procedure-was-carried-out-on.-5.2\"><span class=\"toc-item-num\">5.2&nbsp;&nbsp;</span>Q2: Same as the previous query, but include the following information in the results: Physician name, name of procedure, date when the procedure was carried out, name of the patient the procedure was carried out on.</a></span></li><li><span><a href=\"#Q3:-Obtain-the-names-of-all-physicians-that-have-performed-a-medical-procedure-that-they-are-certified-to-perform,-but-such-that-the-procedure-was-done-at-a-date-(Undergoes.Date)-after-the-physician's-certification-expired-(Trained_In.CertificationExpires).\" data-toc-modified-id=\"Q3:-Obtain-the-names-of-all-physicians-that-have-performed-a-medical-procedure-that-they-are-certified-to-perform,-but-such-that-the-procedure-was-done-at-a-date-(Undergoes.Date)-after-the-physician's-certification-expired-(Trained_In.CertificationExpires).-5.3\"><span class=\"toc-item-num\">5.3&nbsp;&nbsp;</span>Q3: Obtain the names of all physicians that have performed a medical procedure that they are certified to perform, but such that the procedure was done at a date (Undergoes.Date) after the physician's certification expired (Trained_In.CertificationExpires).</a></span></li><li><span><a href=\"#Q4:-Same-as-the-previous-query,-but-include-the-following-information-in-the-results:-Physician-name,-name-of-procedure,-date-when-the-procedure-was-carried-out,-name-of-the-patient-the-procedure-was-carried-out-on,-and-date-when-the-certification-expired.\" data-toc-modified-id=\"Q4:-Same-as-the-previous-query,-but-include-the-following-information-in-the-results:-Physician-name,-name-of-procedure,-date-when-the-procedure-was-carried-out,-name-of-the-patient-the-procedure-was-carried-out-on,-and-date-when-the-certification-expired.-5.4\"><span class=\"toc-item-num\">5.4&nbsp;&nbsp;</span>Q4: Same as the previous query, but include the following information in the results: Physician name, name of procedure, date when the procedure was carried out, name of the patient the procedure was carried out on, and date when the certification expired.</a></span></li><li><span><a href=\"#Q5:-Obtain-the-information-for-appointments-where-a-patient-met-with-a-physician-other-than-his/her-primary-care-physician.-Show-the-following-information:-Patient-name,-physician-name,-nurse-name-(if-any),-start-and-end-time-of-appointment,-examination-room,-and-the-name-of-the-patient's-primary-care-physician.\" data-toc-modified-id=\"Q5:-Obtain-the-information-for-appointments-where-a-patient-met-with-a-physician-other-than-his/her-primary-care-physician.-Show-the-following-information:-Patient-name,-physician-name,-nurse-name-(if-any),-start-and-end-time-of-appointment,-examination-room,-and-the-name-of-the-patient's-primary-care-physician.-5.5\"><span class=\"toc-item-num\">5.5&nbsp;&nbsp;</span>Q5: Obtain the information for appointments where a patient met with a physician other than his/her primary care physician. Show the following information: Patient name, physician name, nurse name (if any), start and end time of appointment, examination room, and the name of the patient's primary care physician.</a></span></li><li><span><a href=\"#Q6:-The-Patient-field-in-Undergoes-is-redundant,-since-we-can-obtain-it-from-the-Stay-table.-There-are-no-constraints-in-force-to-prevent-inconsistencies-between-these-two-tables.-More-specifically,-the-Undergoes-table-may-include-a-row-where-the-patient-ID-does-not-match-the-one-we-would-obtain-from-the-Stay-table-through-the-Undergoes.Stay-foreign-key.-Select-all-rows-from-Undergoes-that-exhibit-this-inconsistency.\" data-toc-modified-id=\"Q6:-The-Patient-field-in-Undergoes-is-redundant,-since-we-can-obtain-it-from-the-Stay-table.-There-are-no-constraints-in-force-to-prevent-inconsistencies-between-these-two-tables.-More-specifically,-the-Undergoes-table-may-include-a-row-where-the-patient-ID-does-not-match-the-one-we-would-obtain-from-the-Stay-table-through-the-Undergoes.Stay-foreign-key.-Select-all-rows-from-Undergoes-that-exhibit-this-inconsistency.-5.6\"><span class=\"toc-item-num\">5.6&nbsp;&nbsp;</span>Q6: The Patient field in Undergoes is redundant, since we can obtain it from the Stay table. There are no constraints in force to prevent inconsistencies between these two tables. More specifically, the Undergoes table may include a row where the patient ID does not match the one we would obtain from the Stay table through the Undergoes.Stay foreign key. Select all rows from Undergoes that exhibit this inconsistency.</a></span></li><li><span><a href=\"#Q7:-Obtain-the-names-of-all-the-nurses-who-have-ever-been-on-call-for-room-123.\" data-toc-modified-id=\"Q7:-Obtain-the-names-of-all-the-nurses-who-have-ever-been-on-call-for-room-123.-5.7\"><span class=\"toc-item-num\">5.7&nbsp;&nbsp;</span>Q7: Obtain the names of all the nurses who have ever been on call for room 123.</a></span></li><li><span><a href=\"#Q8:-The-hospital-has-several-examination-rooms-where-appointments-take-place.-Obtain-the-number-of-appointments-that-have-taken-place-in-each-examination-room.\" data-toc-modified-id=\"Q8:-The-hospital-has-several-examination-rooms-where-appointments-take-place.-Obtain-the-number-of-appointments-that-have-taken-place-in-each-examination-room.-5.8\"><span class=\"toc-item-num\">5.8&nbsp;&nbsp;</span>Q8: The hospital has several examination rooms where appointments take place. Obtain the number of appointments that have taken place in each examination room.</a></span></li><li><span><a href=\"#Q9:-Obtain-the-names-of-all-patients-(also-include,-for-each-patient,-the-name-of-the-patient's-primary-care-physician),-such-that-\\emph{all}-the-following-are-true:\" data-toc-modified-id=\"Q9:-Obtain-the-names-of-all-patients-(also-include,-for-each-patient,-the-name-of-the-patient's-primary-care-physician),-such-that-\\emph{all}-the-following-are-true:-5.9\"><span class=\"toc-item-num\">5.9&nbsp;&nbsp;</span>Q9: Obtain the names of all patients (also include, for each patient, the name of the patient's primary care physician), such that \\emph{all} the following are true:</a></span></li></ul></li></ul></div>"
   ]
  },
  {
   "cell_type": "markdown",
   "metadata": {},
   "source": [
    "# Introduction\n",
    "\n",
    "In this project I created a hospital management management\n",
    "schema to postgresql from the sqlite version of [wikibooks](https://en.wikibooks.org/wiki/SQL_Exercises/The_Hospital).\n",
    "\n",
    "I used `sqlite3` module to create an empty database called `wiki8.db` and later inserted multiple tables into it.\n",
    "\n",
    "I created following tables:\n",
    "1. Physician\n",
    "1. Department\n",
    "1. Affiliated_With\n",
    "1. Procedure\n",
    "1. Trained_In\n",
    "1. Patient\n",
    "1. Nurse\n",
    "1. Appointment\n",
    "1. Medication\n",
    "1. Prescribes\n",
    "1. Block\n",
    "1. Room\n",
    "1. On_Call\n",
    "1. Stay\n",
    "1. Undergoes\n",
    "\n",
    "Then I filled the data into these tables with various constraints.\n",
    "The detail Entity Relation Diagram is as follows:\n",
    "![](ER_the_hospital.png)\n",
    "\n",
    "Once we have the whole database is ready I used pandas `read_sql` function to run various SQL queries.\n",
    "\n",
    "References:\n",
    "\n",
    "- https://en.wikibooks.org/wiki/SQL_Exercises\n",
    "- https://en.wikibooks.org/wiki/SQL_Exercises/The_Hospital"
   ]
  },
  {
   "cell_type": "code",
   "execution_count": 2,
   "metadata": {
    "ExecuteTime": {
     "end_time": "2021-04-24T01:42:50.897265Z",
     "start_time": "2021-04-24T01:42:50.763632Z"
    }
   },
   "outputs": [
    {
     "name": "stdout",
     "output_type": "stream",
     "text": [
      "hospital_management_pandas.ipynb\r\n",
      "hospital_management_postgresql_sqlalchemy_pandas_read_sql.ipynb\r\n",
      "hospital_management_sqlite3_pandas_read_sql.ipynb\r\n",
      "\u001b[33mhtml\u001b[m\u001b[m\r\n",
      "\u001b[33mimages\u001b[m\u001b[m\r\n"
     ]
    }
   ],
   "source": [
    "!ls"
   ]
  },
  {
   "cell_type": "markdown",
   "metadata": {},
   "source": [
    "# Imports"
   ]
  },
  {
   "cell_type": "code",
   "execution_count": 3,
   "metadata": {
    "ExecuteTime": {
     "end_time": "2021-04-24T01:42:50.924423Z",
     "start_time": "2021-04-24T01:42:50.913747Z"
    }
   },
   "outputs": [],
   "source": [
    "import time\n",
    "import os\n",
    "time_start_notebook = time.time()"
   ]
  },
  {
   "cell_type": "code",
   "execution_count": 4,
   "metadata": {
    "ExecuteTime": {
     "end_time": "2021-04-24T01:42:51.407399Z",
     "start_time": "2021-04-24T01:42:50.946646Z"
    }
   },
   "outputs": [],
   "source": [
    "import numpy as np\n",
    "import pandas as pd\n",
    "\n",
    "# Jupyter notebook settings for pandas\n",
    "pd.set_option('display.max_columns', 200)\n",
    "pd.set_option('display.max_rows', 100)"
   ]
  },
  {
   "cell_type": "code",
   "execution_count": 5,
   "metadata": {
    "ExecuteTime": {
     "end_time": "2021-04-24T01:42:51.419139Z",
     "start_time": "2021-04-24T01:42:51.410100Z"
    }
   },
   "outputs": [
    {
     "data": {
      "text/plain": [
       "'2.6.0'"
      ]
     },
     "execution_count": 5,
     "metadata": {},
     "output_type": "execute_result"
    }
   ],
   "source": [
    "from datetime import datetime\n",
    "from dateutil.relativedelta import relativedelta\n",
    "# last_year = datetime.now() - relativedelta(years=1)\n",
    "\n",
    "import sqlite3\n",
    "sqlite3.sqlite_version # sqlite database version 3.29\n",
    "sqlite3.version # python module version"
   ]
  },
  {
   "cell_type": "markdown",
   "metadata": {},
   "source": [
    "# Create Tables"
   ]
  },
  {
   "cell_type": "code",
   "execution_count": 6,
   "metadata": {
    "ExecuteTime": {
     "end_time": "2021-04-24T01:42:51.431579Z",
     "start_time": "2021-04-24T01:42:51.424719Z"
    }
   },
   "outputs": [],
   "source": [
    "# create db if does not exist\n",
    "dbname = 'wiki8.db'\n",
    "if os.path.isfile(dbname):\n",
    "    os.remove(dbname)\n",
    "\n",
    "conn = sqlite3.connect(dbname)\n",
    "cur = conn.cursor()"
   ]
  },
  {
   "cell_type": "code",
   "execution_count": 7,
   "metadata": {
    "ExecuteTime": {
     "end_time": "2021-04-24T01:42:51.453284Z",
     "start_time": "2021-04-24T01:42:51.434568Z"
    }
   },
   "outputs": [],
   "source": [
    "data = \"\"\"\n",
    "CREATE TABLE Physician (\n",
    "  EmployeeID INTEGER PRIMARY KEY NOT NULL,\n",
    "  Name TEXT NOT NULL,\n",
    "  Position TEXT NOT NULL,\n",
    "  SSN INTEGER NOT NULL\n",
    "); \n",
    "\n",
    "CREATE TABLE Department (\n",
    "  DepartmentID INTEGER PRIMARY KEY NOT NULL,\n",
    "  Name TEXT NOT NULL,\n",
    "  Head INTEGER NOT NULL\n",
    "    CONSTRAINT fk_Physician_EmployeeID REFERENCES Physician(EmployeeID)\n",
    ");\n",
    "\n",
    "CREATE TABLE Affiliated_With (\n",
    "  Physician INTEGER NOT NULL\n",
    "    CONSTRAINT fk_Physician_EmployeeID REFERENCES Physician(EmployeeID),\n",
    "  Department INTEGER NOT NULL\n",
    "    CONSTRAINT fk_Department_DepartmentID REFERENCES Department(DepartmentID),\n",
    "  PrimaryAffiliation BOOLEAN NOT NULL,\n",
    "  PRIMARY KEY(Physician, Department)\n",
    ");\n",
    "\n",
    "CREATE TABLE Procedure (\n",
    "  Code INTEGER PRIMARY KEY NOT NULL,\n",
    "  Name TEXT NOT NULL,\n",
    "  Cost REAL NOT NULL\n",
    ");\n",
    "\n",
    "CREATE TABLE Trained_In (\n",
    "  Physician INTEGER NOT NULL\n",
    "    CONSTRAINT fk_Physician_EmployeeID REFERENCES Physician(EmployeeID),\n",
    "  Treatment INTEGER NOT NULL\n",
    "    CONSTRAINT fk_Procedure_Code REFERENCES Procedure(Code),\n",
    "  CertificationDate DATETIME NOT NULL,\n",
    "  CertificationExpires DATETIME NOT NULL,\n",
    "  PRIMARY KEY(Physician, Treatment)\n",
    ");\n",
    "\n",
    "CREATE TABLE Patient (\n",
    "  SSN INTEGER PRIMARY KEY NOT NULL,\n",
    "  Name TEXT NOT NULL,\n",
    "  Address TEXT NOT NULL,\n",
    "  Phone TEXT NOT NULL,\n",
    "  InsuranceID INTEGER NOT NULL,\n",
    "  PCP INTEGER NOT NULL\n",
    "    CONSTRAINT fk_Physician_EmployeeID REFERENCES Physician(EmployeeID)\n",
    ");\n",
    "\n",
    "CREATE TABLE Nurse (\n",
    "  EmployeeID INTEGER PRIMARY KEY NOT NULL,\n",
    "  Name TEXT NOT NULL,\n",
    "  Position TEXT NOT NULL,\n",
    "  Registered BOOLEAN NOT NULL,\n",
    "  SSN INTEGER NOT NULL\n",
    ");\n",
    "\n",
    "CREATE TABLE Appointment (\n",
    "  AppointmentID INTEGER PRIMARY KEY NOT NULL,\n",
    "  Patient INTEGER NOT NULL\n",
    "    CONSTRAINT fk_Patient_SSN REFERENCES Patient(SSN),\n",
    "  PrepNurse INTEGER\n",
    "    CONSTRAINT fk_Nurse_EmployeeID REFERENCES Nurse(EmployeeID),\n",
    "  Physician INTEGER NOT NULL\n",
    "    CONSTRAINT fk_Physician_EmployeeID REFERENCES Physician(EmployeeID),\n",
    "  Start DATETIME NOT NULL,\n",
    "  End DATETIME NOT NULL,\n",
    "  ExaminationRoom TEXT NOT NULL\n",
    ");\n",
    "\n",
    "CREATE TABLE Medication (\n",
    "  Code INTEGER PRIMARY KEY NOT NULL,\n",
    "  Name TEXT NOT NULL,\n",
    "  Brand TEXT NOT NULL,\n",
    "  Description TEXT NOT NULL\n",
    ");\n",
    "\n",
    "CREATE TABLE Prescribes (\n",
    "  Physician INTEGER NOT NULL\n",
    "    CONSTRAINT fk_Physician_EmployeeID REFERENCES Physician(EmployeeID),\n",
    "  Patient INTEGER NOT NULL\n",
    "    CONSTRAINT fk_Patient_SSN REFERENCES Patient(SSN),\n",
    "  Medication INTEGER NOT NULL\n",
    "    CONSTRAINT fk_Medication_Code REFERENCES Medication(Code),\n",
    "  Date DATETIME NOT NULL,\n",
    "  Appointment INTEGER\n",
    "    CONSTRAINT fk_Appointment_AppointmentID REFERENCES Appointment(AppointmentID),\n",
    "  Dose TEXT NOT NULL,\n",
    "  PRIMARY KEY(Physician, Patient, Medication, Date)\n",
    ");\n",
    "\n",
    "CREATE TABLE Block (\n",
    "  Floor INTEGER NOT NULL,\n",
    "  Code INTEGER NOT NULL,\n",
    "  PRIMARY KEY(Floor, Code)\n",
    "); \n",
    "\n",
    "CREATE TABLE Room (\n",
    "  Number INTEGER PRIMARY KEY NOT NULL,\n",
    "  Type TEXT NOT NULL,\n",
    "  BlockFloor INTEGER NOT NULL\n",
    "    CONSTRAINT fk_Block_Floor REFERENCES Block(Floor),\n",
    "  BlockCode INTEGER NOT NULL\n",
    "    CONSTRAINT fk_Block_Code REFERENCES Block(Code),\n",
    "  Unavailable BOOLEAN NOT NULL\n",
    ");\n",
    "\n",
    "CREATE TABLE On_Call (\n",
    "  Nurse INTEGER NOT NULL\n",
    "    CONSTRAINT fk_Nurse_EmployeeID REFERENCES Nurse(EmployeeID),\n",
    "  BlockFloor INTEGER NOT NULL\n",
    "    CONSTRAINT fk_Block_Floor REFERENCES Block(Floor),\n",
    "  BlockCode INTEGER NOT NULL\n",
    "    CONSTRAINT fk_Block_Code REFERENCES Block(Code),\n",
    "  Start DATETIME NOT NULL,\n",
    "  End DATETIME NOT NULL,\n",
    "  PRIMARY KEY(Nurse, BlockFloor, BlockCode, Start, End)\n",
    ");\n",
    "\n",
    "CREATE TABLE Stay (\n",
    "  StayID INTEGER PRIMARY KEY NOT NULL,\n",
    "  Patient INTEGER NOT NULL\n",
    "    CONSTRAINT fk_Patient_SSN REFERENCES Patient(SSN),\n",
    "  Room INTEGER NOT NULL\n",
    "    CONSTRAINT fk_Room_Number REFERENCES Room(Number),\n",
    "  Start DATETIME NOT NULL,\n",
    "  End DATETIME NOT NULL\n",
    ");\n",
    "\n",
    "CREATE TABLE Undergoes (\n",
    "  Patient INTEGER NOT NULL\n",
    "    CONSTRAINT fk_Patient_SSN REFERENCES Patient(SSN),\n",
    "  Procedure INTEGER NOT NULL\n",
    "    CONSTRAINT fk_Procedure_Code REFERENCES Procedure(Code),\n",
    "  Stay INTEGER NOT NULL\n",
    "    CONSTRAINT fk_Stay_StayID REFERENCES Stay(StayID),\n",
    "  Date DATETIME NOT NULL,\n",
    "  Physician INTEGER NOT NULL\n",
    "    CONSTRAINT fk_Physician_EmployeeID REFERENCES Physician(EmployeeID),\n",
    "  AssistingNurse INTEGER\n",
    "    CONSTRAINT fk_Nurse_EmployeeID REFERENCES Nurse(EmployeeID),\n",
    "  PRIMARY KEY(Patient, Procedure, Stay, Date)\n",
    ");\n",
    "\n",
    "\"\"\".split(';')\n",
    "\n",
    "for i,q in enumerate(data):\n",
    "    if q:\n",
    "        #print(q);break\n",
    "        \n",
    "        cur.execute(q)\n",
    "        \n",
    "        \n",
    "conn.commit()"
   ]
  },
  {
   "cell_type": "code",
   "execution_count": 8,
   "metadata": {
    "ExecuteTime": {
     "end_time": "2021-04-24T01:42:51.479192Z",
     "start_time": "2021-04-24T01:42:51.459052Z"
    }
   },
   "outputs": [],
   "source": [
    "data = \"\"\"\n",
    "INSERT INTO Physician VALUES(1,'John Dorian','Staff Internist',111111111);\n",
    "INSERT INTO Physician VALUES(2,'Elliot Reid','Attending Physician',222222222);\n",
    "INSERT INTO Physician VALUES(3,'Christopher Turk','Surgical Attending Physician',333333333);\n",
    "INSERT INTO Physician VALUES(4,'Percival Cox','Senior Attending Physician',444444444);\n",
    "INSERT INTO Physician VALUES(5,'Bob Kelso','Head Chief of Medicine',555555555);\n",
    "INSERT INTO Physician VALUES(6,'Todd Quinlan','Surgical Attending Physician',666666666);\n",
    "INSERT INTO Physician VALUES(7,'John Wen','Surgical Attending Physician',777777777);\n",
    "INSERT INTO Physician VALUES(8,'Keith Dudemeister','MD Resident',888888888);\n",
    "INSERT INTO Physician VALUES(9,'Molly Clock','Attending Psychiatrist',999999999);\n",
    "\n",
    "INSERT INTO Department VALUES(1,'General Medicine',4);\n",
    "INSERT INTO Department VALUES(2,'Surgery',7);\n",
    "INSERT INTO Department VALUES(3,'Psychiatry',9);\n",
    "\n",
    "INSERT INTO Affiliated_With VALUES(1,1,1);\n",
    "INSERT INTO Affiliated_With VALUES(2,1,1);\n",
    "INSERT INTO Affiliated_With VALUES(3,1,0);\n",
    "INSERT INTO Affiliated_With VALUES(3,2,1);\n",
    "INSERT INTO Affiliated_With VALUES(4,1,1);\n",
    "INSERT INTO Affiliated_With VALUES(5,1,1);\n",
    "INSERT INTO Affiliated_With VALUES(6,2,1);\n",
    "INSERT INTO Affiliated_With VALUES(7,1,0);\n",
    "INSERT INTO Affiliated_With VALUES(7,2,1);\n",
    "INSERT INTO Affiliated_With VALUES(8,1,1);\n",
    "INSERT INTO Affiliated_With VALUES(9,3,1);\n",
    "\n",
    "INSERT INTO Procedure VALUES(1,'Reverse Rhinopodoplasty',1500.0);\n",
    "INSERT INTO Procedure VALUES(2,'Obtuse Pyloric Recombobulation',3750.0);\n",
    "INSERT INTO Procedure VALUES(3,'Folded Demiophtalmectomy',4500.0);\n",
    "INSERT INTO Procedure VALUES(4,'Complete Walletectomy',10000.0);\n",
    "INSERT INTO Procedure VALUES(5,'Obfuscated Dermogastrotomy',4899.0);\n",
    "INSERT INTO Procedure VALUES(6,'Reversible Pancreomyoplasty',5600.0);\n",
    "INSERT INTO Procedure VALUES(7,'Follicular Demiectomy',25.0);\n",
    "\n",
    "INSERT INTO Patient VALUES(100000001,'John Smith','42 Foobar Lane','555-0256',68476213,1);\n",
    "INSERT INTO Patient VALUES(100000002,'Grace Ritchie','37 Snafu Drive','555-0512',36546321,2);\n",
    "INSERT INTO Patient VALUES(100000003,'Random J. Patient','101 Omgbbq Street','555-1204',65465421,2);\n",
    "INSERT INTO Patient VALUES(100000004,'Dennis Doe','1100 Foobaz Avenue','555-2048',68421879,3);\n",
    "\n",
    "INSERT INTO Nurse VALUES(101,'Carla Espinosa','Head Nurse',1,111111110);\n",
    "INSERT INTO Nurse VALUES(102,'Laverne Roberts','Nurse',1,222222220);\n",
    "INSERT INTO Nurse VALUES(103,'Paul Flowers','Nurse',0,333333330);\n",
    "\n",
    "INSERT INTO Appointment VALUES(13216584,100000001,101,1,'2008-04-24 10:00','2008-04-24 11:00','A');\n",
    "INSERT INTO Appointment VALUES(26548913,100000002,101,2,'2008-04-24 10:00','2008-04-24 11:00','B');\n",
    "INSERT INTO Appointment VALUES(36549879,100000001,102,1,'2008-04-25 10:00','2008-04-25 11:00','A');\n",
    "INSERT INTO Appointment VALUES(46846589,100000004,103,4,'2008-04-25 10:00','2008-04-25 11:00','B');\n",
    "INSERT INTO Appointment VALUES(59871321,100000004,NULL,4,'2008-04-26 10:00','2008-04-26 11:00','C');\n",
    "INSERT INTO Appointment VALUES(69879231,100000003,103,2,'2008-04-26 11:00','2008-04-26 12:00','C');\n",
    "INSERT INTO Appointment VALUES(76983231,100000001,NULL,3,'2008-04-26 12:00','2008-04-26 13:00','C');\n",
    "INSERT INTO Appointment VALUES(86213939,100000004,102,9,'2008-04-27 10:00','2008-04-21 11:00','A');\n",
    "INSERT INTO Appointment VALUES(93216548,100000002,101,2,'2008-04-27 10:00','2008-04-27 11:00','B');\n",
    "\n",
    "INSERT INTO Medication VALUES(1,'Procrastin-X','X','N/A');\n",
    "INSERT INTO Medication VALUES(2,'Thesisin','Foo Labs','N/A');\n",
    "INSERT INTO Medication VALUES(3,'Awakin','Bar Laboratories','N/A');\n",
    "INSERT INTO Medication VALUES(4,'Crescavitin','Baz Industries','N/A');\n",
    "INSERT INTO Medication VALUES(5,'Melioraurin','Snafu Pharmaceuticals','N/A');\n",
    "\n",
    "INSERT INTO Prescribes VALUES(1,100000001,1,'2008-04-24 10:47',13216584,'5');\n",
    "INSERT INTO Prescribes VALUES(9,100000004,2,'2008-04-27 10:53',86213939,'10');\n",
    "INSERT INTO Prescribes VALUES(9,100000004,2,'2008-04-30 16:53',NULL,'5');\n",
    "\n",
    "INSERT INTO Block VALUES(1,1);\n",
    "INSERT INTO Block VALUES(1,2);\n",
    "INSERT INTO Block VALUES(1,3);\n",
    "INSERT INTO Block VALUES(2,1);\n",
    "INSERT INTO Block VALUES(2,2);\n",
    "INSERT INTO Block VALUES(2,3);\n",
    "INSERT INTO Block VALUES(3,1);\n",
    "INSERT INTO Block VALUES(3,2);\n",
    "INSERT INTO Block VALUES(3,3);\n",
    "INSERT INTO Block VALUES(4,1);\n",
    "INSERT INTO Block VALUES(4,2);\n",
    "INSERT INTO Block VALUES(4,3);\n",
    "\n",
    "INSERT INTO Room VALUES(101,'Single',1,1,0);\n",
    "INSERT INTO Room VALUES(102,'Single',1,1,0);\n",
    "INSERT INTO Room VALUES(103,'Single',1,1,0);\n",
    "INSERT INTO Room VALUES(111,'Single',1,2,0);\n",
    "INSERT INTO Room VALUES(112,'Single',1,2,1);\n",
    "INSERT INTO Room VALUES(113,'Single',1,2,0);\n",
    "INSERT INTO Room VALUES(121,'Single',1,3,0);\n",
    "INSERT INTO Room VALUES(122,'Single',1,3,0);\n",
    "INSERT INTO Room VALUES(123,'Single',1,3,0);\n",
    "INSERT INTO Room VALUES(201,'Single',2,1,1);\n",
    "INSERT INTO Room VALUES(202,'Single',2,1,0);\n",
    "INSERT INTO Room VALUES(203,'Single',2,1,0);\n",
    "INSERT INTO Room VALUES(211,'Single',2,2,0);\n",
    "INSERT INTO Room VALUES(212,'Single',2,2,0);\n",
    "INSERT INTO Room VALUES(213,'Single',2,2,1);\n",
    "INSERT INTO Room VALUES(221,'Single',2,3,0);\n",
    "INSERT INTO Room VALUES(222,'Single',2,3,0);\n",
    "INSERT INTO Room VALUES(223,'Single',2,3,0);\n",
    "INSERT INTO Room VALUES(301,'Single',3,1,0);\n",
    "INSERT INTO Room VALUES(302,'Single',3,1,1);\n",
    "INSERT INTO Room VALUES(303,'Single',3,1,0);\n",
    "INSERT INTO Room VALUES(311,'Single',3,2,0);\n",
    "INSERT INTO Room VALUES(312,'Single',3,2,0);\n",
    "INSERT INTO Room VALUES(313,'Single',3,2,0);\n",
    "INSERT INTO Room VALUES(321,'Single',3,3,1);\n",
    "INSERT INTO Room VALUES(322,'Single',3,3,0);\n",
    "INSERT INTO Room VALUES(323,'Single',3,3,0);\n",
    "INSERT INTO Room VALUES(401,'Single',4,1,0);\n",
    "INSERT INTO Room VALUES(402,'Single',4,1,1);\n",
    "INSERT INTO Room VALUES(403,'Single',4,1,0);\n",
    "INSERT INTO Room VALUES(411,'Single',4,2,0);\n",
    "INSERT INTO Room VALUES(412,'Single',4,2,0);\n",
    "INSERT INTO Room VALUES(413,'Single',4,2,0);\n",
    "INSERT INTO Room VALUES(421,'Single',4,3,1);\n",
    "INSERT INTO Room VALUES(422,'Single',4,3,0);\n",
    "INSERT INTO Room VALUES(423,'Single',4,3,0);\n",
    "\n",
    "INSERT INTO On_Call VALUES(101,1,1,'2008-11-04 11:00','2008-11-04 19:00');\n",
    "INSERT INTO On_Call VALUES(101,1,2,'2008-11-04 11:00','2008-11-04 19:00');\n",
    "INSERT INTO On_Call VALUES(102,1,3,'2008-11-04 11:00','2008-11-04 19:00');\n",
    "INSERT INTO On_Call VALUES(103,1,1,'2008-11-04 19:00','2008-11-05 03:00');\n",
    "INSERT INTO On_Call VALUES(103,1,2,'2008-11-04 19:00','2008-11-05 03:00');\n",
    "INSERT INTO On_Call VALUES(103,1,3,'2008-11-04 19:00','2008-11-05 03:00');\n",
    "\n",
    "INSERT INTO Stay VALUES(3215,100000001,111,'2008-05-01','2008-05-04');\n",
    "INSERT INTO Stay VALUES(3216,100000003,123,'2008-05-03','2008-05-14');\n",
    "INSERT INTO Stay VALUES(3217,100000004,112,'2008-05-02','2008-05-03');\n",
    "\n",
    "INSERT INTO Undergoes VALUES(100000001,6,3215,'2008-05-02',3,101);\n",
    "INSERT INTO Undergoes VALUES(100000001,2,3215,'2008-05-03',7,101);\n",
    "INSERT INTO Undergoes VALUES(100000004,1,3217,'2008-05-07',3,102);\n",
    "INSERT INTO Undergoes VALUES(100000004,5,3217,'2008-05-09',6,NULL);\n",
    "INSERT INTO Undergoes VALUES(100000001,7,3217,'2008-05-10',7,101);\n",
    "INSERT INTO Undergoes VALUES(100000004,4,3217,'2008-05-13',3,103);\n",
    "\n",
    "INSERT INTO Trained_In VALUES(3,1,'2008-01-01','2008-12-31');\n",
    "INSERT INTO Trained_In VALUES(3,2,'2008-01-01','2008-12-31');\n",
    "INSERT INTO Trained_In VALUES(3,5,'2008-01-01','2008-12-31');\n",
    "INSERT INTO Trained_In VALUES(3,6,'2008-01-01','2008-12-31');\n",
    "INSERT INTO Trained_In VALUES(3,7,'2008-01-01','2008-12-31');\n",
    "INSERT INTO Trained_In VALUES(6,2,'2008-01-01','2008-12-31');\n",
    "INSERT INTO Trained_In VALUES(6,5,'2007-01-01','2007-12-31');\n",
    "INSERT INTO Trained_In VALUES(6,6,'2008-01-01','2008-12-31');\n",
    "INSERT INTO Trained_In VALUES(7,1,'2008-01-01','2008-12-31');\n",
    "INSERT INTO Trained_In VALUES(7,2,'2008-01-01','2008-12-31');\n",
    "INSERT INTO Trained_In VALUES(7,3,'2008-01-01','2008-12-31');\n",
    "INSERT INTO Trained_In VALUES(7,4,'2008-01-01','2008-12-31');\n",
    "INSERT INTO Trained_In VALUES(7,5,'2008-01-01','2008-12-31');\n",
    "INSERT INTO Trained_In VALUES(7,6,'2008-01-01','2008-12-31');\n",
    "INSERT INTO Trained_In VALUES(7,7,'2008-01-01','2008-12-31');\n",
    "\"\"\".split('\\n')\n",
    "\n",
    "for i,line in enumerate(data):\n",
    "    if line:\n",
    "        cur.execute(line.strip())\n",
    "        \n",
    "\n",
    "conn.commit()"
   ]
  },
  {
   "cell_type": "markdown",
   "metadata": {},
   "source": [
    "# Head of All data"
   ]
  },
  {
   "cell_type": "code",
   "execution_count": 9,
   "metadata": {
    "ExecuteTime": {
     "end_time": "2021-04-24T01:42:51.596468Z",
     "start_time": "2021-04-24T01:42:51.490688Z"
    }
   },
   "outputs": [
    {
     "data": {
      "text/html": [
       "<div>\n",
       "<style scoped>\n",
       "    .dataframe tbody tr th:only-of-type {\n",
       "        vertical-align: middle;\n",
       "    }\n",
       "\n",
       "    .dataframe tbody tr th {\n",
       "        vertical-align: top;\n",
       "    }\n",
       "\n",
       "    .dataframe thead th {\n",
       "        text-align: right;\n",
       "    }\n",
       "</style>\n",
       "<table border=\"1\" class=\"dataframe\">\n",
       "  <thead>\n",
       "    <tr style=\"text-align: right;\">\n",
       "      <th></th>\n",
       "      <th>type</th>\n",
       "      <th>name</th>\n",
       "      <th>tbl_name</th>\n",
       "      <th>rootpage</th>\n",
       "      <th>sql</th>\n",
       "    </tr>\n",
       "  </thead>\n",
       "  <tbody>\n",
       "    <tr>\n",
       "      <th>0</th>\n",
       "      <td>table</td>\n",
       "      <td>Physician</td>\n",
       "      <td>Physician</td>\n",
       "      <td>2</td>\n",
       "      <td>CREATE TABLE Physician (\\n  EmployeeID INTEGER...</td>\n",
       "    </tr>\n",
       "    <tr>\n",
       "      <th>1</th>\n",
       "      <td>table</td>\n",
       "      <td>Department</td>\n",
       "      <td>Department</td>\n",
       "      <td>3</td>\n",
       "      <td>CREATE TABLE Department (\\n  DepartmentID INTE...</td>\n",
       "    </tr>\n",
       "    <tr>\n",
       "      <th>2</th>\n",
       "      <td>table</td>\n",
       "      <td>Affiliated_With</td>\n",
       "      <td>Affiliated_With</td>\n",
       "      <td>4</td>\n",
       "      <td>CREATE TABLE Affiliated_With (\\n  Physician IN...</td>\n",
       "    </tr>\n",
       "    <tr>\n",
       "      <th>3</th>\n",
       "      <td>table</td>\n",
       "      <td>Procedure</td>\n",
       "      <td>Procedure</td>\n",
       "      <td>6</td>\n",
       "      <td>CREATE TABLE Procedure (\\n  Code INTEGER PRIMA...</td>\n",
       "    </tr>\n",
       "    <tr>\n",
       "      <th>4</th>\n",
       "      <td>table</td>\n",
       "      <td>Trained_In</td>\n",
       "      <td>Trained_In</td>\n",
       "      <td>7</td>\n",
       "      <td>CREATE TABLE Trained_In (\\n  Physician INTEGER...</td>\n",
       "    </tr>\n",
       "    <tr>\n",
       "      <th>5</th>\n",
       "      <td>table</td>\n",
       "      <td>Patient</td>\n",
       "      <td>Patient</td>\n",
       "      <td>9</td>\n",
       "      <td>CREATE TABLE Patient (\\n  SSN INTEGER PRIMARY ...</td>\n",
       "    </tr>\n",
       "    <tr>\n",
       "      <th>6</th>\n",
       "      <td>table</td>\n",
       "      <td>Nurse</td>\n",
       "      <td>Nurse</td>\n",
       "      <td>10</td>\n",
       "      <td>CREATE TABLE Nurse (\\n  EmployeeID INTEGER PRI...</td>\n",
       "    </tr>\n",
       "    <tr>\n",
       "      <th>7</th>\n",
       "      <td>table</td>\n",
       "      <td>Appointment</td>\n",
       "      <td>Appointment</td>\n",
       "      <td>11</td>\n",
       "      <td>CREATE TABLE Appointment (\\n  AppointmentID IN...</td>\n",
       "    </tr>\n",
       "    <tr>\n",
       "      <th>8</th>\n",
       "      <td>table</td>\n",
       "      <td>Medication</td>\n",
       "      <td>Medication</td>\n",
       "      <td>12</td>\n",
       "      <td>CREATE TABLE Medication (\\n  Code INTEGER PRIM...</td>\n",
       "    </tr>\n",
       "    <tr>\n",
       "      <th>9</th>\n",
       "      <td>table</td>\n",
       "      <td>Prescribes</td>\n",
       "      <td>Prescribes</td>\n",
       "      <td>13</td>\n",
       "      <td>CREATE TABLE Prescribes (\\n  Physician INTEGER...</td>\n",
       "    </tr>\n",
       "    <tr>\n",
       "      <th>10</th>\n",
       "      <td>table</td>\n",
       "      <td>Block</td>\n",
       "      <td>Block</td>\n",
       "      <td>15</td>\n",
       "      <td>CREATE TABLE Block (\\n  Floor INTEGER NOT NULL...</td>\n",
       "    </tr>\n",
       "    <tr>\n",
       "      <th>11</th>\n",
       "      <td>table</td>\n",
       "      <td>Room</td>\n",
       "      <td>Room</td>\n",
       "      <td>17</td>\n",
       "      <td>CREATE TABLE Room (\\n  Number INTEGER PRIMARY ...</td>\n",
       "    </tr>\n",
       "    <tr>\n",
       "      <th>12</th>\n",
       "      <td>table</td>\n",
       "      <td>On_Call</td>\n",
       "      <td>On_Call</td>\n",
       "      <td>18</td>\n",
       "      <td>CREATE TABLE On_Call (\\n  Nurse INTEGER NOT NU...</td>\n",
       "    </tr>\n",
       "    <tr>\n",
       "      <th>13</th>\n",
       "      <td>table</td>\n",
       "      <td>Stay</td>\n",
       "      <td>Stay</td>\n",
       "      <td>21</td>\n",
       "      <td>CREATE TABLE Stay (\\n  StayID INTEGER PRIMARY ...</td>\n",
       "    </tr>\n",
       "    <tr>\n",
       "      <th>14</th>\n",
       "      <td>table</td>\n",
       "      <td>Undergoes</td>\n",
       "      <td>Undergoes</td>\n",
       "      <td>23</td>\n",
       "      <td>CREATE TABLE Undergoes (\\n  Patient INTEGER NO...</td>\n",
       "    </tr>\n",
       "  </tbody>\n",
       "</table>\n",
       "</div>"
      ],
      "text/plain": [
       "     type             name         tbl_name  rootpage  \\\n",
       "0   table        Physician        Physician         2   \n",
       "1   table       Department       Department         3   \n",
       "2   table  Affiliated_With  Affiliated_With         4   \n",
       "3   table        Procedure        Procedure         6   \n",
       "4   table       Trained_In       Trained_In         7   \n",
       "5   table          Patient          Patient         9   \n",
       "6   table            Nurse            Nurse        10   \n",
       "7   table      Appointment      Appointment        11   \n",
       "8   table       Medication       Medication        12   \n",
       "9   table       Prescribes       Prescribes        13   \n",
       "10  table            Block            Block        15   \n",
       "11  table             Room             Room        17   \n",
       "12  table          On_Call          On_Call        18   \n",
       "13  table             Stay             Stay        21   \n",
       "14  table        Undergoes        Undergoes        23   \n",
       "\n",
       "                                                  sql  \n",
       "0   CREATE TABLE Physician (\\n  EmployeeID INTEGER...  \n",
       "1   CREATE TABLE Department (\\n  DepartmentID INTE...  \n",
       "2   CREATE TABLE Affiliated_With (\\n  Physician IN...  \n",
       "3   CREATE TABLE Procedure (\\n  Code INTEGER PRIMA...  \n",
       "4   CREATE TABLE Trained_In (\\n  Physician INTEGER...  \n",
       "5   CREATE TABLE Patient (\\n  SSN INTEGER PRIMARY ...  \n",
       "6   CREATE TABLE Nurse (\\n  EmployeeID INTEGER PRI...  \n",
       "7   CREATE TABLE Appointment (\\n  AppointmentID IN...  \n",
       "8   CREATE TABLE Medication (\\n  Code INTEGER PRIM...  \n",
       "9   CREATE TABLE Prescribes (\\n  Physician INTEGER...  \n",
       "10  CREATE TABLE Block (\\n  Floor INTEGER NOT NULL...  \n",
       "11  CREATE TABLE Room (\\n  Number INTEGER PRIMARY ...  \n",
       "12  CREATE TABLE On_Call (\\n  Nurse INTEGER NOT NU...  \n",
       "13  CREATE TABLE Stay (\\n  StayID INTEGER PRIMARY ...  \n",
       "14  CREATE TABLE Undergoes (\\n  Patient INTEGER NO...  "
      ]
     },
     "execution_count": 9,
     "metadata": {},
     "output_type": "execute_result"
    }
   ],
   "source": [
    "tables = pd.read_sql(\"\"\"SELECT *\n",
    "                        FROM sqlite_master\n",
    "                        WHERE type='table';\"\"\", conn)\n",
    "tables"
   ]
  },
  {
   "cell_type": "code",
   "execution_count": 10,
   "metadata": {
    "ExecuteTime": {
     "end_time": "2021-04-24T01:42:51.717022Z",
     "start_time": "2021-04-24T01:42:51.599765Z"
    }
   },
   "outputs": [
    {
     "name": "stdout",
     "output_type": "stream",
     "text": [
      "Physician\n"
     ]
    },
    {
     "data": {
      "text/html": [
       "<div>\n",
       "<style scoped>\n",
       "    .dataframe tbody tr th:only-of-type {\n",
       "        vertical-align: middle;\n",
       "    }\n",
       "\n",
       "    .dataframe tbody tr th {\n",
       "        vertical-align: top;\n",
       "    }\n",
       "\n",
       "    .dataframe thead th {\n",
       "        text-align: right;\n",
       "    }\n",
       "</style>\n",
       "<table border=\"1\" class=\"dataframe\">\n",
       "  <thead>\n",
       "    <tr style=\"text-align: right;\">\n",
       "      <th></th>\n",
       "      <th>EmployeeID</th>\n",
       "      <th>Name</th>\n",
       "      <th>Position</th>\n",
       "      <th>SSN</th>\n",
       "    </tr>\n",
       "  </thead>\n",
       "  <tbody>\n",
       "    <tr>\n",
       "      <th>0</th>\n",
       "      <td>1</td>\n",
       "      <td>John Dorian</td>\n",
       "      <td>Staff Internist</td>\n",
       "      <td>111111111</td>\n",
       "    </tr>\n",
       "  </tbody>\n",
       "</table>\n",
       "</div>"
      ],
      "text/plain": [
       "   EmployeeID         Name         Position        SSN\n",
       "0           1  John Dorian  Staff Internist  111111111"
      ]
     },
     "metadata": {},
     "output_type": "display_data"
    },
    {
     "name": "stdout",
     "output_type": "stream",
     "text": [
      "Department\n"
     ]
    },
    {
     "data": {
      "text/html": [
       "<div>\n",
       "<style scoped>\n",
       "    .dataframe tbody tr th:only-of-type {\n",
       "        vertical-align: middle;\n",
       "    }\n",
       "\n",
       "    .dataframe tbody tr th {\n",
       "        vertical-align: top;\n",
       "    }\n",
       "\n",
       "    .dataframe thead th {\n",
       "        text-align: right;\n",
       "    }\n",
       "</style>\n",
       "<table border=\"1\" class=\"dataframe\">\n",
       "  <thead>\n",
       "    <tr style=\"text-align: right;\">\n",
       "      <th></th>\n",
       "      <th>DepartmentID</th>\n",
       "      <th>Name</th>\n",
       "      <th>Head</th>\n",
       "    </tr>\n",
       "  </thead>\n",
       "  <tbody>\n",
       "    <tr>\n",
       "      <th>0</th>\n",
       "      <td>1</td>\n",
       "      <td>General Medicine</td>\n",
       "      <td>4</td>\n",
       "    </tr>\n",
       "  </tbody>\n",
       "</table>\n",
       "</div>"
      ],
      "text/plain": [
       "   DepartmentID              Name  Head\n",
       "0             1  General Medicine     4"
      ]
     },
     "metadata": {},
     "output_type": "display_data"
    },
    {
     "name": "stdout",
     "output_type": "stream",
     "text": [
      "Affiliated_With\n"
     ]
    },
    {
     "data": {
      "text/html": [
       "<div>\n",
       "<style scoped>\n",
       "    .dataframe tbody tr th:only-of-type {\n",
       "        vertical-align: middle;\n",
       "    }\n",
       "\n",
       "    .dataframe tbody tr th {\n",
       "        vertical-align: top;\n",
       "    }\n",
       "\n",
       "    .dataframe thead th {\n",
       "        text-align: right;\n",
       "    }\n",
       "</style>\n",
       "<table border=\"1\" class=\"dataframe\">\n",
       "  <thead>\n",
       "    <tr style=\"text-align: right;\">\n",
       "      <th></th>\n",
       "      <th>Physician</th>\n",
       "      <th>Department</th>\n",
       "      <th>PrimaryAffiliation</th>\n",
       "    </tr>\n",
       "  </thead>\n",
       "  <tbody>\n",
       "    <tr>\n",
       "      <th>0</th>\n",
       "      <td>1</td>\n",
       "      <td>1</td>\n",
       "      <td>1</td>\n",
       "    </tr>\n",
       "  </tbody>\n",
       "</table>\n",
       "</div>"
      ],
      "text/plain": [
       "   Physician  Department  PrimaryAffiliation\n",
       "0          1           1                   1"
      ]
     },
     "metadata": {},
     "output_type": "display_data"
    },
    {
     "name": "stdout",
     "output_type": "stream",
     "text": [
      "Procedure\n"
     ]
    },
    {
     "data": {
      "text/html": [
       "<div>\n",
       "<style scoped>\n",
       "    .dataframe tbody tr th:only-of-type {\n",
       "        vertical-align: middle;\n",
       "    }\n",
       "\n",
       "    .dataframe tbody tr th {\n",
       "        vertical-align: top;\n",
       "    }\n",
       "\n",
       "    .dataframe thead th {\n",
       "        text-align: right;\n",
       "    }\n",
       "</style>\n",
       "<table border=\"1\" class=\"dataframe\">\n",
       "  <thead>\n",
       "    <tr style=\"text-align: right;\">\n",
       "      <th></th>\n",
       "      <th>Code</th>\n",
       "      <th>Name</th>\n",
       "      <th>Cost</th>\n",
       "    </tr>\n",
       "  </thead>\n",
       "  <tbody>\n",
       "    <tr>\n",
       "      <th>0</th>\n",
       "      <td>1</td>\n",
       "      <td>Reverse Rhinopodoplasty</td>\n",
       "      <td>1500.0</td>\n",
       "    </tr>\n",
       "  </tbody>\n",
       "</table>\n",
       "</div>"
      ],
      "text/plain": [
       "   Code                     Name    Cost\n",
       "0     1  Reverse Rhinopodoplasty  1500.0"
      ]
     },
     "metadata": {},
     "output_type": "display_data"
    },
    {
     "name": "stdout",
     "output_type": "stream",
     "text": [
      "Trained_In\n"
     ]
    },
    {
     "data": {
      "text/html": [
       "<div>\n",
       "<style scoped>\n",
       "    .dataframe tbody tr th:only-of-type {\n",
       "        vertical-align: middle;\n",
       "    }\n",
       "\n",
       "    .dataframe tbody tr th {\n",
       "        vertical-align: top;\n",
       "    }\n",
       "\n",
       "    .dataframe thead th {\n",
       "        text-align: right;\n",
       "    }\n",
       "</style>\n",
       "<table border=\"1\" class=\"dataframe\">\n",
       "  <thead>\n",
       "    <tr style=\"text-align: right;\">\n",
       "      <th></th>\n",
       "      <th>Physician</th>\n",
       "      <th>Treatment</th>\n",
       "      <th>CertificationDate</th>\n",
       "      <th>CertificationExpires</th>\n",
       "    </tr>\n",
       "  </thead>\n",
       "  <tbody>\n",
       "    <tr>\n",
       "      <th>0</th>\n",
       "      <td>3</td>\n",
       "      <td>1</td>\n",
       "      <td>2008-01-01</td>\n",
       "      <td>2008-12-31</td>\n",
       "    </tr>\n",
       "  </tbody>\n",
       "</table>\n",
       "</div>"
      ],
      "text/plain": [
       "   Physician  Treatment CertificationDate CertificationExpires\n",
       "0          3          1        2008-01-01           2008-12-31"
      ]
     },
     "metadata": {},
     "output_type": "display_data"
    },
    {
     "name": "stdout",
     "output_type": "stream",
     "text": [
      "Patient\n"
     ]
    },
    {
     "data": {
      "text/html": [
       "<div>\n",
       "<style scoped>\n",
       "    .dataframe tbody tr th:only-of-type {\n",
       "        vertical-align: middle;\n",
       "    }\n",
       "\n",
       "    .dataframe tbody tr th {\n",
       "        vertical-align: top;\n",
       "    }\n",
       "\n",
       "    .dataframe thead th {\n",
       "        text-align: right;\n",
       "    }\n",
       "</style>\n",
       "<table border=\"1\" class=\"dataframe\">\n",
       "  <thead>\n",
       "    <tr style=\"text-align: right;\">\n",
       "      <th></th>\n",
       "      <th>SSN</th>\n",
       "      <th>Name</th>\n",
       "      <th>Address</th>\n",
       "      <th>Phone</th>\n",
       "      <th>InsuranceID</th>\n",
       "      <th>PCP</th>\n",
       "    </tr>\n",
       "  </thead>\n",
       "  <tbody>\n",
       "    <tr>\n",
       "      <th>0</th>\n",
       "      <td>100000001</td>\n",
       "      <td>John Smith</td>\n",
       "      <td>42 Foobar Lane</td>\n",
       "      <td>555-0256</td>\n",
       "      <td>68476213</td>\n",
       "      <td>1</td>\n",
       "    </tr>\n",
       "  </tbody>\n",
       "</table>\n",
       "</div>"
      ],
      "text/plain": [
       "         SSN        Name         Address     Phone  InsuranceID  PCP\n",
       "0  100000001  John Smith  42 Foobar Lane  555-0256     68476213    1"
      ]
     },
     "metadata": {},
     "output_type": "display_data"
    },
    {
     "name": "stdout",
     "output_type": "stream",
     "text": [
      "Nurse\n"
     ]
    },
    {
     "data": {
      "text/html": [
       "<div>\n",
       "<style scoped>\n",
       "    .dataframe tbody tr th:only-of-type {\n",
       "        vertical-align: middle;\n",
       "    }\n",
       "\n",
       "    .dataframe tbody tr th {\n",
       "        vertical-align: top;\n",
       "    }\n",
       "\n",
       "    .dataframe thead th {\n",
       "        text-align: right;\n",
       "    }\n",
       "</style>\n",
       "<table border=\"1\" class=\"dataframe\">\n",
       "  <thead>\n",
       "    <tr style=\"text-align: right;\">\n",
       "      <th></th>\n",
       "      <th>EmployeeID</th>\n",
       "      <th>Name</th>\n",
       "      <th>Position</th>\n",
       "      <th>Registered</th>\n",
       "      <th>SSN</th>\n",
       "    </tr>\n",
       "  </thead>\n",
       "  <tbody>\n",
       "    <tr>\n",
       "      <th>0</th>\n",
       "      <td>101</td>\n",
       "      <td>Carla Espinosa</td>\n",
       "      <td>Head Nurse</td>\n",
       "      <td>1</td>\n",
       "      <td>111111110</td>\n",
       "    </tr>\n",
       "  </tbody>\n",
       "</table>\n",
       "</div>"
      ],
      "text/plain": [
       "   EmployeeID            Name    Position  Registered        SSN\n",
       "0         101  Carla Espinosa  Head Nurse           1  111111110"
      ]
     },
     "metadata": {},
     "output_type": "display_data"
    },
    {
     "name": "stdout",
     "output_type": "stream",
     "text": [
      "Appointment\n"
     ]
    },
    {
     "data": {
      "text/html": [
       "<div>\n",
       "<style scoped>\n",
       "    .dataframe tbody tr th:only-of-type {\n",
       "        vertical-align: middle;\n",
       "    }\n",
       "\n",
       "    .dataframe tbody tr th {\n",
       "        vertical-align: top;\n",
       "    }\n",
       "\n",
       "    .dataframe thead th {\n",
       "        text-align: right;\n",
       "    }\n",
       "</style>\n",
       "<table border=\"1\" class=\"dataframe\">\n",
       "  <thead>\n",
       "    <tr style=\"text-align: right;\">\n",
       "      <th></th>\n",
       "      <th>AppointmentID</th>\n",
       "      <th>Patient</th>\n",
       "      <th>PrepNurse</th>\n",
       "      <th>Physician</th>\n",
       "      <th>Start</th>\n",
       "      <th>End</th>\n",
       "      <th>ExaminationRoom</th>\n",
       "    </tr>\n",
       "  </thead>\n",
       "  <tbody>\n",
       "    <tr>\n",
       "      <th>0</th>\n",
       "      <td>13216584</td>\n",
       "      <td>100000001</td>\n",
       "      <td>101</td>\n",
       "      <td>1</td>\n",
       "      <td>2008-04-24 10:00</td>\n",
       "      <td>2008-04-24 11:00</td>\n",
       "      <td>A</td>\n",
       "    </tr>\n",
       "  </tbody>\n",
       "</table>\n",
       "</div>"
      ],
      "text/plain": [
       "   AppointmentID    Patient  PrepNurse  Physician             Start  \\\n",
       "0       13216584  100000001        101          1  2008-04-24 10:00   \n",
       "\n",
       "                End ExaminationRoom  \n",
       "0  2008-04-24 11:00               A  "
      ]
     },
     "metadata": {},
     "output_type": "display_data"
    },
    {
     "name": "stdout",
     "output_type": "stream",
     "text": [
      "Medication\n"
     ]
    },
    {
     "data": {
      "text/html": [
       "<div>\n",
       "<style scoped>\n",
       "    .dataframe tbody tr th:only-of-type {\n",
       "        vertical-align: middle;\n",
       "    }\n",
       "\n",
       "    .dataframe tbody tr th {\n",
       "        vertical-align: top;\n",
       "    }\n",
       "\n",
       "    .dataframe thead th {\n",
       "        text-align: right;\n",
       "    }\n",
       "</style>\n",
       "<table border=\"1\" class=\"dataframe\">\n",
       "  <thead>\n",
       "    <tr style=\"text-align: right;\">\n",
       "      <th></th>\n",
       "      <th>Code</th>\n",
       "      <th>Name</th>\n",
       "      <th>Brand</th>\n",
       "      <th>Description</th>\n",
       "    </tr>\n",
       "  </thead>\n",
       "  <tbody>\n",
       "    <tr>\n",
       "      <th>0</th>\n",
       "      <td>1</td>\n",
       "      <td>Procrastin-X</td>\n",
       "      <td>X</td>\n",
       "      <td>N/A</td>\n",
       "    </tr>\n",
       "  </tbody>\n",
       "</table>\n",
       "</div>"
      ],
      "text/plain": [
       "   Code          Name Brand Description\n",
       "0     1  Procrastin-X     X         N/A"
      ]
     },
     "metadata": {},
     "output_type": "display_data"
    },
    {
     "name": "stdout",
     "output_type": "stream",
     "text": [
      "Prescribes\n"
     ]
    },
    {
     "data": {
      "text/html": [
       "<div>\n",
       "<style scoped>\n",
       "    .dataframe tbody tr th:only-of-type {\n",
       "        vertical-align: middle;\n",
       "    }\n",
       "\n",
       "    .dataframe tbody tr th {\n",
       "        vertical-align: top;\n",
       "    }\n",
       "\n",
       "    .dataframe thead th {\n",
       "        text-align: right;\n",
       "    }\n",
       "</style>\n",
       "<table border=\"1\" class=\"dataframe\">\n",
       "  <thead>\n",
       "    <tr style=\"text-align: right;\">\n",
       "      <th></th>\n",
       "      <th>Physician</th>\n",
       "      <th>Patient</th>\n",
       "      <th>Medication</th>\n",
       "      <th>Date</th>\n",
       "      <th>Appointment</th>\n",
       "      <th>Dose</th>\n",
       "    </tr>\n",
       "  </thead>\n",
       "  <tbody>\n",
       "    <tr>\n",
       "      <th>0</th>\n",
       "      <td>1</td>\n",
       "      <td>100000001</td>\n",
       "      <td>1</td>\n",
       "      <td>2008-04-24 10:47</td>\n",
       "      <td>13216584</td>\n",
       "      <td>5</td>\n",
       "    </tr>\n",
       "  </tbody>\n",
       "</table>\n",
       "</div>"
      ],
      "text/plain": [
       "   Physician    Patient  Medication              Date  Appointment Dose\n",
       "0          1  100000001           1  2008-04-24 10:47     13216584    5"
      ]
     },
     "metadata": {},
     "output_type": "display_data"
    },
    {
     "name": "stdout",
     "output_type": "stream",
     "text": [
      "Block\n"
     ]
    },
    {
     "data": {
      "text/html": [
       "<div>\n",
       "<style scoped>\n",
       "    .dataframe tbody tr th:only-of-type {\n",
       "        vertical-align: middle;\n",
       "    }\n",
       "\n",
       "    .dataframe tbody tr th {\n",
       "        vertical-align: top;\n",
       "    }\n",
       "\n",
       "    .dataframe thead th {\n",
       "        text-align: right;\n",
       "    }\n",
       "</style>\n",
       "<table border=\"1\" class=\"dataframe\">\n",
       "  <thead>\n",
       "    <tr style=\"text-align: right;\">\n",
       "      <th></th>\n",
       "      <th>Floor</th>\n",
       "      <th>Code</th>\n",
       "    </tr>\n",
       "  </thead>\n",
       "  <tbody>\n",
       "    <tr>\n",
       "      <th>0</th>\n",
       "      <td>1</td>\n",
       "      <td>1</td>\n",
       "    </tr>\n",
       "  </tbody>\n",
       "</table>\n",
       "</div>"
      ],
      "text/plain": [
       "   Floor  Code\n",
       "0      1     1"
      ]
     },
     "metadata": {},
     "output_type": "display_data"
    },
    {
     "name": "stdout",
     "output_type": "stream",
     "text": [
      "Room\n"
     ]
    },
    {
     "data": {
      "text/html": [
       "<div>\n",
       "<style scoped>\n",
       "    .dataframe tbody tr th:only-of-type {\n",
       "        vertical-align: middle;\n",
       "    }\n",
       "\n",
       "    .dataframe tbody tr th {\n",
       "        vertical-align: top;\n",
       "    }\n",
       "\n",
       "    .dataframe thead th {\n",
       "        text-align: right;\n",
       "    }\n",
       "</style>\n",
       "<table border=\"1\" class=\"dataframe\">\n",
       "  <thead>\n",
       "    <tr style=\"text-align: right;\">\n",
       "      <th></th>\n",
       "      <th>Number</th>\n",
       "      <th>Type</th>\n",
       "      <th>BlockFloor</th>\n",
       "      <th>BlockCode</th>\n",
       "      <th>Unavailable</th>\n",
       "    </tr>\n",
       "  </thead>\n",
       "  <tbody>\n",
       "    <tr>\n",
       "      <th>0</th>\n",
       "      <td>101</td>\n",
       "      <td>Single</td>\n",
       "      <td>1</td>\n",
       "      <td>1</td>\n",
       "      <td>0</td>\n",
       "    </tr>\n",
       "  </tbody>\n",
       "</table>\n",
       "</div>"
      ],
      "text/plain": [
       "   Number    Type  BlockFloor  BlockCode  Unavailable\n",
       "0     101  Single           1          1            0"
      ]
     },
     "metadata": {},
     "output_type": "display_data"
    },
    {
     "name": "stdout",
     "output_type": "stream",
     "text": [
      "On_Call\n"
     ]
    },
    {
     "data": {
      "text/html": [
       "<div>\n",
       "<style scoped>\n",
       "    .dataframe tbody tr th:only-of-type {\n",
       "        vertical-align: middle;\n",
       "    }\n",
       "\n",
       "    .dataframe tbody tr th {\n",
       "        vertical-align: top;\n",
       "    }\n",
       "\n",
       "    .dataframe thead th {\n",
       "        text-align: right;\n",
       "    }\n",
       "</style>\n",
       "<table border=\"1\" class=\"dataframe\">\n",
       "  <thead>\n",
       "    <tr style=\"text-align: right;\">\n",
       "      <th></th>\n",
       "      <th>Nurse</th>\n",
       "      <th>BlockFloor</th>\n",
       "      <th>BlockCode</th>\n",
       "      <th>Start</th>\n",
       "      <th>End</th>\n",
       "    </tr>\n",
       "  </thead>\n",
       "  <tbody>\n",
       "    <tr>\n",
       "      <th>0</th>\n",
       "      <td>101</td>\n",
       "      <td>1</td>\n",
       "      <td>1</td>\n",
       "      <td>2008-11-04 11:00</td>\n",
       "      <td>2008-11-04 19:00</td>\n",
       "    </tr>\n",
       "  </tbody>\n",
       "</table>\n",
       "</div>"
      ],
      "text/plain": [
       "   Nurse  BlockFloor  BlockCode             Start               End\n",
       "0    101           1          1  2008-11-04 11:00  2008-11-04 19:00"
      ]
     },
     "metadata": {},
     "output_type": "display_data"
    },
    {
     "name": "stdout",
     "output_type": "stream",
     "text": [
      "Stay\n"
     ]
    },
    {
     "data": {
      "text/html": [
       "<div>\n",
       "<style scoped>\n",
       "    .dataframe tbody tr th:only-of-type {\n",
       "        vertical-align: middle;\n",
       "    }\n",
       "\n",
       "    .dataframe tbody tr th {\n",
       "        vertical-align: top;\n",
       "    }\n",
       "\n",
       "    .dataframe thead th {\n",
       "        text-align: right;\n",
       "    }\n",
       "</style>\n",
       "<table border=\"1\" class=\"dataframe\">\n",
       "  <thead>\n",
       "    <tr style=\"text-align: right;\">\n",
       "      <th></th>\n",
       "      <th>StayID</th>\n",
       "      <th>Patient</th>\n",
       "      <th>Room</th>\n",
       "      <th>Start</th>\n",
       "      <th>End</th>\n",
       "    </tr>\n",
       "  </thead>\n",
       "  <tbody>\n",
       "    <tr>\n",
       "      <th>0</th>\n",
       "      <td>3215</td>\n",
       "      <td>100000001</td>\n",
       "      <td>111</td>\n",
       "      <td>2008-05-01</td>\n",
       "      <td>2008-05-04</td>\n",
       "    </tr>\n",
       "  </tbody>\n",
       "</table>\n",
       "</div>"
      ],
      "text/plain": [
       "   StayID    Patient  Room       Start         End\n",
       "0    3215  100000001   111  2008-05-01  2008-05-04"
      ]
     },
     "metadata": {},
     "output_type": "display_data"
    },
    {
     "name": "stdout",
     "output_type": "stream",
     "text": [
      "Undergoes\n"
     ]
    },
    {
     "data": {
      "text/html": [
       "<div>\n",
       "<style scoped>\n",
       "    .dataframe tbody tr th:only-of-type {\n",
       "        vertical-align: middle;\n",
       "    }\n",
       "\n",
       "    .dataframe tbody tr th {\n",
       "        vertical-align: top;\n",
       "    }\n",
       "\n",
       "    .dataframe thead th {\n",
       "        text-align: right;\n",
       "    }\n",
       "</style>\n",
       "<table border=\"1\" class=\"dataframe\">\n",
       "  <thead>\n",
       "    <tr style=\"text-align: right;\">\n",
       "      <th></th>\n",
       "      <th>Patient</th>\n",
       "      <th>Procedure</th>\n",
       "      <th>Stay</th>\n",
       "      <th>Date</th>\n",
       "      <th>Physician</th>\n",
       "      <th>AssistingNurse</th>\n",
       "    </tr>\n",
       "  </thead>\n",
       "  <tbody>\n",
       "    <tr>\n",
       "      <th>0</th>\n",
       "      <td>100000001</td>\n",
       "      <td>6</td>\n",
       "      <td>3215</td>\n",
       "      <td>2008-05-02</td>\n",
       "      <td>3</td>\n",
       "      <td>101</td>\n",
       "    </tr>\n",
       "  </tbody>\n",
       "</table>\n",
       "</div>"
      ],
      "text/plain": [
       "     Patient  Procedure  Stay        Date  Physician  AssistingNurse\n",
       "0  100000001          6  3215  2008-05-02          3             101"
      ]
     },
     "metadata": {},
     "output_type": "display_data"
    }
   ],
   "source": [
    "for t in tables['name']:\n",
    "    print(t)\n",
    "    display(pd.read_sql(f'select * from {t} limit 1',conn))"
   ]
  },
  {
   "cell_type": "markdown",
   "metadata": {},
   "source": [
    "# Exercise Questions"
   ]
  },
  {
   "cell_type": "markdown",
   "metadata": {},
   "source": [
    "## Q1: Obtain the names of all physicians that have performed a medical procedure they have never been certified to perform."
   ]
  },
  {
   "cell_type": "code",
   "execution_count": 11,
   "metadata": {
    "ExecuteTime": {
     "end_time": "2021-04-24T01:42:51.730948Z",
     "start_time": "2021-04-24T01:42:51.719419Z"
    }
   },
   "outputs": [
    {
     "data": {
      "text/html": [
       "<div>\n",
       "<style scoped>\n",
       "    .dataframe tbody tr th:only-of-type {\n",
       "        vertical-align: middle;\n",
       "    }\n",
       "\n",
       "    .dataframe tbody tr th {\n",
       "        vertical-align: top;\n",
       "    }\n",
       "\n",
       "    .dataframe thead th {\n",
       "        text-align: right;\n",
       "    }\n",
       "</style>\n",
       "<table border=\"1\" class=\"dataframe\">\n",
       "  <thead>\n",
       "    <tr style=\"text-align: right;\">\n",
       "      <th></th>\n",
       "      <th>Name</th>\n",
       "    </tr>\n",
       "  </thead>\n",
       "  <tbody>\n",
       "    <tr>\n",
       "      <th>0</th>\n",
       "      <td>Christopher Turk</td>\n",
       "    </tr>\n",
       "  </tbody>\n",
       "</table>\n",
       "</div>"
      ],
      "text/plain": [
       "               Name\n",
       "0  Christopher Turk"
      ]
     },
     "execution_count": 11,
     "metadata": {},
     "output_type": "execute_result"
    }
   ],
   "source": [
    "q = \"\"\"\n",
    "SELECT Name \n",
    "  FROM Physician \n",
    " WHERE EmployeeID IN \n",
    "       (\n",
    "         SELECT Physician FROM Undergoes U WHERE NOT EXISTS \n",
    "            (\n",
    "               SELECT * FROM Trained_In \n",
    "                WHERE Treatment = Procedure \n",
    "                  AND Physician = U.Physician\n",
    "            )\n",
    "       )\n",
    "\"\"\"\n",
    "\n",
    "pd.read_sql(q,conn)"
   ]
  },
  {
   "cell_type": "code",
   "execution_count": 12,
   "metadata": {
    "ExecuteTime": {
     "end_time": "2021-04-24T01:42:51.744870Z",
     "start_time": "2021-04-24T01:42:51.734593Z"
    }
   },
   "outputs": [
    {
     "data": {
      "text/html": [
       "<div>\n",
       "<style scoped>\n",
       "    .dataframe tbody tr th:only-of-type {\n",
       "        vertical-align: middle;\n",
       "    }\n",
       "\n",
       "    .dataframe tbody tr th {\n",
       "        vertical-align: top;\n",
       "    }\n",
       "\n",
       "    .dataframe thead th {\n",
       "        text-align: right;\n",
       "    }\n",
       "</style>\n",
       "<table border=\"1\" class=\"dataframe\">\n",
       "  <thead>\n",
       "    <tr style=\"text-align: right;\">\n",
       "      <th></th>\n",
       "      <th>Name</th>\n",
       "    </tr>\n",
       "  </thead>\n",
       "  <tbody>\n",
       "    <tr>\n",
       "      <th>0</th>\n",
       "      <td>Christopher Turk</td>\n",
       "    </tr>\n",
       "  </tbody>\n",
       "</table>\n",
       "</div>"
      ],
      "text/plain": [
       "               Name\n",
       "0  Christopher Turk"
      ]
     },
     "execution_count": 12,
     "metadata": {},
     "output_type": "execute_result"
    }
   ],
   "source": [
    "q = \"\"\"\n",
    "SELECT P.Name FROM \n",
    " Physician AS P,    \n",
    " (SELECT Physician, Procedure FROM Undergoes \n",
    "    EXCEPT \n",
    "    SELECT Physician, Treatment FROM Trained_in) AS Pe\n",
    " WHERE P.EmployeeID=Pe.Physician\n",
    "\"\"\"\n",
    "\n",
    "pd.read_sql(q,conn)"
   ]
  },
  {
   "cell_type": "code",
   "execution_count": 13,
   "metadata": {
    "ExecuteTime": {
     "end_time": "2021-04-24T01:42:51.765767Z",
     "start_time": "2021-04-24T01:42:51.749306Z"
    }
   },
   "outputs": [
    {
     "data": {
      "text/html": [
       "<div>\n",
       "<style scoped>\n",
       "    .dataframe tbody tr th:only-of-type {\n",
       "        vertical-align: middle;\n",
       "    }\n",
       "\n",
       "    .dataframe tbody tr th {\n",
       "        vertical-align: top;\n",
       "    }\n",
       "\n",
       "    .dataframe thead th {\n",
       "        text-align: right;\n",
       "    }\n",
       "</style>\n",
       "<table border=\"1\" class=\"dataframe\">\n",
       "  <thead>\n",
       "    <tr style=\"text-align: right;\">\n",
       "      <th></th>\n",
       "      <th>Name</th>\n",
       "    </tr>\n",
       "  </thead>\n",
       "  <tbody>\n",
       "    <tr>\n",
       "      <th>0</th>\n",
       "      <td>Christopher Turk</td>\n",
       "    </tr>\n",
       "  </tbody>\n",
       "</table>\n",
       "</div>"
      ],
      "text/plain": [
       "               Name\n",
       "0  Christopher Turk"
      ]
     },
     "execution_count": 13,
     "metadata": {},
     "output_type": "execute_result"
    }
   ],
   "source": [
    "q = \"\"\"\n",
    "SELECT Name \n",
    "  FROM Physician\n",
    " WHERE EmployeeID IN\n",
    "   (\n",
    "      SELECT Undergoes.Physician\n",
    "        FROM Undergoes \n",
    "             LEFT JOIN Trained_In\n",
    "             ON Undergoes.Physician=Trained_In.Physician\n",
    "                 AND Undergoes.Procedure=Trained_In.Treatment\n",
    "       WHERE Treatment IS NULL\n",
    "   )\n",
    "\"\"\"\n",
    "\n",
    "pd.read_sql(q,conn)"
   ]
  },
  {
   "cell_type": "markdown",
   "metadata": {},
   "source": [
    "## Q2: Same as the previous query, but include the following information in the results: Physician name, name of procedure, date when the procedure was carried out, name of the patient the procedure was carried out on."
   ]
  },
  {
   "cell_type": "code",
   "execution_count": 14,
   "metadata": {
    "ExecuteTime": {
     "end_time": "2021-04-24T01:42:51.782167Z",
     "start_time": "2021-04-24T01:42:51.769047Z"
    }
   },
   "outputs": [
    {
     "data": {
      "text/html": [
       "<div>\n",
       "<style scoped>\n",
       "    .dataframe tbody tr th:only-of-type {\n",
       "        vertical-align: middle;\n",
       "    }\n",
       "\n",
       "    .dataframe tbody tr th {\n",
       "        vertical-align: top;\n",
       "    }\n",
       "\n",
       "    .dataframe thead th {\n",
       "        text-align: right;\n",
       "    }\n",
       "</style>\n",
       "<table border=\"1\" class=\"dataframe\">\n",
       "  <thead>\n",
       "    <tr style=\"text-align: right;\">\n",
       "      <th></th>\n",
       "      <th>Physician</th>\n",
       "      <th>Procedure</th>\n",
       "      <th>Date</th>\n",
       "      <th>Patient</th>\n",
       "    </tr>\n",
       "  </thead>\n",
       "  <tbody>\n",
       "    <tr>\n",
       "      <th>0</th>\n",
       "      <td>Christopher Turk</td>\n",
       "      <td>Complete Walletectomy</td>\n",
       "      <td>2008-05-13</td>\n",
       "      <td>Dennis Doe</td>\n",
       "    </tr>\n",
       "  </tbody>\n",
       "</table>\n",
       "</div>"
      ],
      "text/plain": [
       "          Physician              Procedure        Date     Patient\n",
       "0  Christopher Turk  Complete Walletectomy  2008-05-13  Dennis Doe"
      ]
     },
     "execution_count": 14,
     "metadata": {},
     "output_type": "execute_result"
    }
   ],
   "source": [
    "q = \"\"\"\n",
    "SELECT P.Name AS Physician, Pr.Name AS Procedure, U.Date, Pt.Name AS Patient \n",
    "  FROM Physician P, Undergoes U, Patient Pt, Procedure Pr\n",
    "  WHERE U.Patient = Pt.SSN\n",
    "    AND U.Procedure = Pr.Code\n",
    "    AND U.Physician = P.EmployeeID\n",
    "    AND NOT EXISTS \n",
    "              (\n",
    "                SELECT * FROM Trained_In T\n",
    "                WHERE T.Treatment = U.Procedure \n",
    "                AND T.Physician = U.Physician\n",
    "              )\n",
    "\"\"\"\n",
    "\n",
    "pd.read_sql(q,conn)"
   ]
  },
  {
   "cell_type": "code",
   "execution_count": 15,
   "metadata": {
    "ExecuteTime": {
     "end_time": "2021-04-24T01:42:51.803076Z",
     "start_time": "2021-04-24T01:42:51.787163Z"
    }
   },
   "outputs": [
    {
     "data": {
      "text/html": [
       "<div>\n",
       "<style scoped>\n",
       "    .dataframe tbody tr th:only-of-type {\n",
       "        vertical-align: middle;\n",
       "    }\n",
       "\n",
       "    .dataframe tbody tr th {\n",
       "        vertical-align: top;\n",
       "    }\n",
       "\n",
       "    .dataframe thead th {\n",
       "        text-align: right;\n",
       "    }\n",
       "</style>\n",
       "<table border=\"1\" class=\"dataframe\">\n",
       "  <thead>\n",
       "    <tr style=\"text-align: right;\">\n",
       "      <th></th>\n",
       "      <th>physician_name</th>\n",
       "      <th>procedure_name</th>\n",
       "      <th>Date</th>\n",
       "      <th>patient_name</th>\n",
       "    </tr>\n",
       "  </thead>\n",
       "  <tbody>\n",
       "    <tr>\n",
       "      <th>0</th>\n",
       "      <td>Christopher Turk</td>\n",
       "      <td>Complete Walletectomy</td>\n",
       "      <td>2008-05-13</td>\n",
       "      <td>Dennis Doe</td>\n",
       "    </tr>\n",
       "  </tbody>\n",
       "</table>\n",
       "</div>"
      ],
      "text/plain": [
       "     physician_name         procedure_name        Date patient_name\n",
       "0  Christopher Turk  Complete Walletectomy  2008-05-13   Dennis Doe"
      ]
     },
     "execution_count": 15,
     "metadata": {},
     "output_type": "execute_result"
    }
   ],
   "source": [
    "q = \"\"\"\n",
    "SELECT P.Name as physician_name,Pr.Name procedure_name,U.Date,Pt.Name as patient_name FROM \n",
    " Physician AS P,    \n",
    " Procedure AS Pr,\n",
    " Undergoes AS U,\n",
    " Patient AS Pt,\n",
    " (SELECT Physician, Procedure FROM Undergoes \n",
    "    EXCEPT \n",
    "    SELECT Physician, Treatment FROM Trained_in) AS Pe  \n",
    " WHERE P.EmployeeID=Pe.Physician AND Pe.Procedure=Pr.Code AND\n",
    "       Pe.Physician=U.Physician AND Pe.Procedure=U.Procedure AND\n",
    "       U.Patient=Pt.SSN\n",
    "\"\"\"\n",
    "\n",
    "pd.read_sql(q,conn)"
   ]
  },
  {
   "cell_type": "markdown",
   "metadata": {},
   "source": [
    "## Q3: Obtain the names of all physicians that have performed a medical procedure that they are certified to perform, but such that the procedure was done at a date (Undergoes.Date) after the physician's certification expired (Trained_In.CertificationExpires)."
   ]
  },
  {
   "cell_type": "code",
   "execution_count": 16,
   "metadata": {
    "ExecuteTime": {
     "end_time": "2021-04-24T01:42:51.826705Z",
     "start_time": "2021-04-24T01:42:51.807312Z"
    }
   },
   "outputs": [
    {
     "data": {
      "text/html": [
       "<div>\n",
       "<style scoped>\n",
       "    .dataframe tbody tr th:only-of-type {\n",
       "        vertical-align: middle;\n",
       "    }\n",
       "\n",
       "    .dataframe tbody tr th {\n",
       "        vertical-align: top;\n",
       "    }\n",
       "\n",
       "    .dataframe thead th {\n",
       "        text-align: right;\n",
       "    }\n",
       "</style>\n",
       "<table border=\"1\" class=\"dataframe\">\n",
       "  <thead>\n",
       "    <tr style=\"text-align: right;\">\n",
       "      <th></th>\n",
       "      <th>Name</th>\n",
       "    </tr>\n",
       "  </thead>\n",
       "  <tbody>\n",
       "    <tr>\n",
       "      <th>0</th>\n",
       "      <td>Todd Quinlan</td>\n",
       "    </tr>\n",
       "  </tbody>\n",
       "</table>\n",
       "</div>"
      ],
      "text/plain": [
       "           Name\n",
       "0  Todd Quinlan"
      ]
     },
     "execution_count": 16,
     "metadata": {},
     "output_type": "execute_result"
    }
   ],
   "source": [
    "q = \"\"\"\n",
    "SELECT Name \n",
    "  FROM Physician \n",
    " WHERE EmployeeID IN \n",
    "       (\n",
    "         SELECT Physician FROM Undergoes U \n",
    "          WHERE Date > \n",
    "               (\n",
    "                  SELECT CertificationExpires \n",
    "                    FROM Trained_In T \n",
    "                   WHERE T.Physician = U.Physician \n",
    "                     AND T.Treatment = U.Procedure\n",
    "               )\n",
    "       )\n",
    "\"\"\"\n",
    "\n",
    "pd.read_sql(q,conn)"
   ]
  },
  {
   "cell_type": "code",
   "execution_count": 17,
   "metadata": {
    "ExecuteTime": {
     "end_time": "2021-04-24T01:42:51.845072Z",
     "start_time": "2021-04-24T01:42:51.830681Z"
    }
   },
   "outputs": [
    {
     "data": {
      "text/html": [
       "<div>\n",
       "<style scoped>\n",
       "    .dataframe tbody tr th:only-of-type {\n",
       "        vertical-align: middle;\n",
       "    }\n",
       "\n",
       "    .dataframe tbody tr th {\n",
       "        vertical-align: top;\n",
       "    }\n",
       "\n",
       "    .dataframe thead th {\n",
       "        text-align: right;\n",
       "    }\n",
       "</style>\n",
       "<table border=\"1\" class=\"dataframe\">\n",
       "  <thead>\n",
       "    <tr style=\"text-align: right;\">\n",
       "      <th></th>\n",
       "      <th>Name</th>\n",
       "    </tr>\n",
       "  </thead>\n",
       "  <tbody>\n",
       "    <tr>\n",
       "      <th>0</th>\n",
       "      <td>Todd Quinlan</td>\n",
       "    </tr>\n",
       "  </tbody>\n",
       "</table>\n",
       "</div>"
      ],
      "text/plain": [
       "           Name\n",
       "0  Todd Quinlan"
      ]
     },
     "execution_count": 17,
     "metadata": {},
     "output_type": "execute_result"
    }
   ],
   "source": [
    "q = \"\"\"\n",
    "SELECT P.Name FROM \n",
    " Physician AS P,    \n",
    " Trained_In T,\n",
    " Undergoes AS U\n",
    " WHERE T.Physician=U.Physician AND T.Treatment=U.Procedure AND\n",
    "     U.Date>T.CertificationExpires AND P.EmployeeID=U.Physician\n",
    "\"\"\"\n",
    "\n",
    "pd.read_sql(q,conn)"
   ]
  },
  {
   "cell_type": "markdown",
   "metadata": {},
   "source": [
    "## Q4: Same as the previous query, but include the following information in the results: Physician name, name of procedure, date when the procedure was carried out, name of the patient the procedure was carried out on, and date when the certification expired."
   ]
  },
  {
   "cell_type": "code",
   "execution_count": 18,
   "metadata": {
    "ExecuteTime": {
     "end_time": "2021-04-24T01:42:51.863186Z",
     "start_time": "2021-04-24T01:42:51.849301Z"
    }
   },
   "outputs": [
    {
     "data": {
      "text/html": [
       "<div>\n",
       "<style scoped>\n",
       "    .dataframe tbody tr th:only-of-type {\n",
       "        vertical-align: middle;\n",
       "    }\n",
       "\n",
       "    .dataframe tbody tr th {\n",
       "        vertical-align: top;\n",
       "    }\n",
       "\n",
       "    .dataframe thead th {\n",
       "        text-align: right;\n",
       "    }\n",
       "</style>\n",
       "<table border=\"1\" class=\"dataframe\">\n",
       "  <thead>\n",
       "    <tr style=\"text-align: right;\">\n",
       "      <th></th>\n",
       "      <th>Physician</th>\n",
       "      <th>Procedure</th>\n",
       "      <th>Date</th>\n",
       "      <th>Patient</th>\n",
       "      <th>CertificationExpires</th>\n",
       "    </tr>\n",
       "  </thead>\n",
       "  <tbody>\n",
       "    <tr>\n",
       "      <th>0</th>\n",
       "      <td>Todd Quinlan</td>\n",
       "      <td>Obfuscated Dermogastrotomy</td>\n",
       "      <td>2008-05-09</td>\n",
       "      <td>Dennis Doe</td>\n",
       "      <td>2007-12-31</td>\n",
       "    </tr>\n",
       "  </tbody>\n",
       "</table>\n",
       "</div>"
      ],
      "text/plain": [
       "      Physician                   Procedure        Date     Patient  \\\n",
       "0  Todd Quinlan  Obfuscated Dermogastrotomy  2008-05-09  Dennis Doe   \n",
       "\n",
       "  CertificationExpires  \n",
       "0           2007-12-31  "
      ]
     },
     "execution_count": 18,
     "metadata": {},
     "output_type": "execute_result"
    }
   ],
   "source": [
    "q = \"\"\"\n",
    "SELECT P.Name AS Physician, Pr.Name AS Procedure, U.Date,\n",
    "       Pt.Name AS Patient, T.CertificationExpires\n",
    "  FROM Physician P, Undergoes U, Patient Pt, Procedure Pr, Trained_In T\n",
    "  WHERE U.Patient = Pt.SSN\n",
    "    AND U.Procedure = Pr.Code\n",
    "    AND U.Physician = P.EmployeeID\n",
    "    AND Pr.Code = T.Treatment\n",
    "    AND P.EmployeeID = T.Physician\n",
    "    AND U.Date > T.CertificationExpires\n",
    "\"\"\"\n",
    "\n",
    "pd.read_sql(q,conn)"
   ]
  },
  {
   "cell_type": "markdown",
   "metadata": {},
   "source": [
    "## Q5: Obtain the information for appointments where a patient met with a physician other than his/her primary care physician. Show the following information: Patient name, physician name, nurse name (if any), start and end time of appointment, examination room, and the name of the patient's primary care physician."
   ]
  },
  {
   "cell_type": "code",
   "execution_count": 19,
   "metadata": {
    "ExecuteTime": {
     "end_time": "2021-04-24T01:42:51.889514Z",
     "start_time": "2021-04-24T01:42:51.870425Z"
    }
   },
   "outputs": [
    {
     "data": {
      "text/html": [
       "<div>\n",
       "<style scoped>\n",
       "    .dataframe tbody tr th:only-of-type {\n",
       "        vertical-align: middle;\n",
       "    }\n",
       "\n",
       "    .dataframe tbody tr th {\n",
       "        vertical-align: top;\n",
       "    }\n",
       "\n",
       "    .dataframe thead th {\n",
       "        text-align: right;\n",
       "    }\n",
       "</style>\n",
       "<table border=\"1\" class=\"dataframe\">\n",
       "  <thead>\n",
       "    <tr style=\"text-align: right;\">\n",
       "      <th></th>\n",
       "      <th>Patient</th>\n",
       "      <th>Physician</th>\n",
       "      <th>Nurse</th>\n",
       "      <th>Start</th>\n",
       "      <th>End</th>\n",
       "      <th>ExaminationRoom</th>\n",
       "      <th>PCP</th>\n",
       "    </tr>\n",
       "  </thead>\n",
       "  <tbody>\n",
       "    <tr>\n",
       "      <th>0</th>\n",
       "      <td>Dennis Doe</td>\n",
       "      <td>Percival Cox</td>\n",
       "      <td>Paul Flowers</td>\n",
       "      <td>2008-04-25 10:00</td>\n",
       "      <td>2008-04-25 11:00</td>\n",
       "      <td>B</td>\n",
       "      <td>Christopher Turk</td>\n",
       "    </tr>\n",
       "    <tr>\n",
       "      <th>1</th>\n",
       "      <td>Dennis Doe</td>\n",
       "      <td>Percival Cox</td>\n",
       "      <td>None</td>\n",
       "      <td>2008-04-26 10:00</td>\n",
       "      <td>2008-04-26 11:00</td>\n",
       "      <td>C</td>\n",
       "      <td>Christopher Turk</td>\n",
       "    </tr>\n",
       "    <tr>\n",
       "      <th>2</th>\n",
       "      <td>John Smith</td>\n",
       "      <td>Christopher Turk</td>\n",
       "      <td>None</td>\n",
       "      <td>2008-04-26 12:00</td>\n",
       "      <td>2008-04-26 13:00</td>\n",
       "      <td>C</td>\n",
       "      <td>John Dorian</td>\n",
       "    </tr>\n",
       "    <tr>\n",
       "      <th>3</th>\n",
       "      <td>Dennis Doe</td>\n",
       "      <td>Molly Clock</td>\n",
       "      <td>Laverne Roberts</td>\n",
       "      <td>2008-04-27 10:00</td>\n",
       "      <td>2008-04-21 11:00</td>\n",
       "      <td>A</td>\n",
       "      <td>Christopher Turk</td>\n",
       "    </tr>\n",
       "  </tbody>\n",
       "</table>\n",
       "</div>"
      ],
      "text/plain": [
       "      Patient         Physician            Nurse             Start  \\\n",
       "0  Dennis Doe      Percival Cox     Paul Flowers  2008-04-25 10:00   \n",
       "1  Dennis Doe      Percival Cox             None  2008-04-26 10:00   \n",
       "2  John Smith  Christopher Turk             None  2008-04-26 12:00   \n",
       "3  Dennis Doe       Molly Clock  Laverne Roberts  2008-04-27 10:00   \n",
       "\n",
       "                End ExaminationRoom               PCP  \n",
       "0  2008-04-25 11:00               B  Christopher Turk  \n",
       "1  2008-04-26 11:00               C  Christopher Turk  \n",
       "2  2008-04-26 13:00               C       John Dorian  \n",
       "3  2008-04-21 11:00               A  Christopher Turk  "
      ]
     },
     "execution_count": 19,
     "metadata": {},
     "output_type": "execute_result"
    }
   ],
   "source": [
    "q = \"\"\"\n",
    "SELECT Pt.Name AS Patient, Ph.Name AS Physician, N.Name AS Nurse, A.Start,\n",
    "       A.End, A.ExaminationRoom, PhPCP.Name AS PCP\n",
    "  FROM Patient Pt, Physician Ph, Physician PhPCP,\n",
    "       Appointment A LEFT JOIN Nurse N ON A.PrepNurse = N.EmployeeID\n",
    " WHERE A.Patient = Pt.SSN\n",
    "   AND A.Physician = Ph.EmployeeID\n",
    "   AND Pt.PCP = PhPCP.EmployeeID\n",
    "   AND A.Physician <> Pt.PCP;\n",
    "\"\"\"\n",
    "\n",
    "pd.read_sql(q,conn)"
   ]
  },
  {
   "cell_type": "markdown",
   "metadata": {},
   "source": [
    "## Q6: The Patient field in Undergoes is redundant, since we can obtain it from the Stay table. There are no constraints in force to prevent inconsistencies between these two tables. More specifically, the Undergoes table may include a row where the patient ID does not match the one we would obtain from the Stay table through the Undergoes.Stay foreign key. Select all rows from Undergoes that exhibit this inconsistency."
   ]
  },
  {
   "cell_type": "code",
   "execution_count": 20,
   "metadata": {
    "ExecuteTime": {
     "end_time": "2021-04-24T01:42:51.906521Z",
     "start_time": "2021-04-24T01:42:51.892790Z"
    }
   },
   "outputs": [
    {
     "data": {
      "text/html": [
       "<div>\n",
       "<style scoped>\n",
       "    .dataframe tbody tr th:only-of-type {\n",
       "        vertical-align: middle;\n",
       "    }\n",
       "\n",
       "    .dataframe tbody tr th {\n",
       "        vertical-align: top;\n",
       "    }\n",
       "\n",
       "    .dataframe thead th {\n",
       "        text-align: right;\n",
       "    }\n",
       "</style>\n",
       "<table border=\"1\" class=\"dataframe\">\n",
       "  <thead>\n",
       "    <tr style=\"text-align: right;\">\n",
       "      <th></th>\n",
       "      <th>Patient</th>\n",
       "      <th>Procedure</th>\n",
       "      <th>Stay</th>\n",
       "      <th>Date</th>\n",
       "      <th>Physician</th>\n",
       "      <th>AssistingNurse</th>\n",
       "    </tr>\n",
       "  </thead>\n",
       "  <tbody>\n",
       "    <tr>\n",
       "      <th>0</th>\n",
       "      <td>100000001</td>\n",
       "      <td>7</td>\n",
       "      <td>3217</td>\n",
       "      <td>2008-05-10</td>\n",
       "      <td>7</td>\n",
       "      <td>101</td>\n",
       "    </tr>\n",
       "  </tbody>\n",
       "</table>\n",
       "</div>"
      ],
      "text/plain": [
       "     Patient  Procedure  Stay        Date  Physician  AssistingNurse\n",
       "0  100000001          7  3217  2008-05-10          7             101"
      ]
     },
     "execution_count": 20,
     "metadata": {},
     "output_type": "execute_result"
    }
   ],
   "source": [
    "q = \"\"\"\n",
    "SELECT * FROM Undergoes U\n",
    " WHERE Patient <> \n",
    "   (\n",
    "     SELECT Patient FROM Stay S\n",
    "      WHERE U.Stay = S.StayID\n",
    "   );\n",
    "\"\"\"\n",
    "\n",
    "pd.read_sql(q,conn)"
   ]
  },
  {
   "cell_type": "markdown",
   "metadata": {},
   "source": [
    "## Q7: Obtain the names of all the nurses who have ever been on call for room 123."
   ]
  },
  {
   "cell_type": "code",
   "execution_count": 21,
   "metadata": {
    "ExecuteTime": {
     "end_time": "2021-04-24T01:42:51.921298Z",
     "start_time": "2021-04-24T01:42:51.909659Z"
    }
   },
   "outputs": [
    {
     "data": {
      "text/html": [
       "<div>\n",
       "<style scoped>\n",
       "    .dataframe tbody tr th:only-of-type {\n",
       "        vertical-align: middle;\n",
       "    }\n",
       "\n",
       "    .dataframe tbody tr th {\n",
       "        vertical-align: top;\n",
       "    }\n",
       "\n",
       "    .dataframe thead th {\n",
       "        text-align: right;\n",
       "    }\n",
       "</style>\n",
       "<table border=\"1\" class=\"dataframe\">\n",
       "  <thead>\n",
       "    <tr style=\"text-align: right;\">\n",
       "      <th></th>\n",
       "      <th>Name</th>\n",
       "    </tr>\n",
       "  </thead>\n",
       "  <tbody>\n",
       "    <tr>\n",
       "      <th>0</th>\n",
       "      <td>Laverne Roberts</td>\n",
       "    </tr>\n",
       "    <tr>\n",
       "      <th>1</th>\n",
       "      <td>Paul Flowers</td>\n",
       "    </tr>\n",
       "  </tbody>\n",
       "</table>\n",
       "</div>"
      ],
      "text/plain": [
       "              Name\n",
       "0  Laverne Roberts\n",
       "1     Paul Flowers"
      ]
     },
     "execution_count": 21,
     "metadata": {},
     "output_type": "execute_result"
    }
   ],
   "source": [
    "q = \"\"\"\n",
    "SELECT N.Name FROM Nurse N\n",
    " WHERE EmployeeID IN\n",
    "   (\n",
    "     SELECT OC.Nurse FROM On_Call OC, Room R\n",
    "      WHERE OC.BlockFloor = R.BlockFloor\n",
    "        AND OC.BlockCode = R.BlockCode\n",
    "        AND R.Number = 123\n",
    "   );\n",
    "\"\"\"\n",
    "\n",
    "pd.read_sql(q,conn)"
   ]
  },
  {
   "cell_type": "markdown",
   "metadata": {},
   "source": [
    "## Q8: The hospital has several examination rooms where appointments take place. Obtain the number of appointments that have taken place in each examination room."
   ]
  },
  {
   "cell_type": "code",
   "execution_count": 22,
   "metadata": {
    "ExecuteTime": {
     "end_time": "2021-04-24T01:42:51.937203Z",
     "start_time": "2021-04-24T01:42:51.923608Z"
    }
   },
   "outputs": [
    {
     "data": {
      "text/html": [
       "<div>\n",
       "<style scoped>\n",
       "    .dataframe tbody tr th:only-of-type {\n",
       "        vertical-align: middle;\n",
       "    }\n",
       "\n",
       "    .dataframe tbody tr th {\n",
       "        vertical-align: top;\n",
       "    }\n",
       "\n",
       "    .dataframe thead th {\n",
       "        text-align: right;\n",
       "    }\n",
       "</style>\n",
       "<table border=\"1\" class=\"dataframe\">\n",
       "  <thead>\n",
       "    <tr style=\"text-align: right;\">\n",
       "      <th></th>\n",
       "      <th>ExaminationRoom</th>\n",
       "      <th>Number</th>\n",
       "    </tr>\n",
       "  </thead>\n",
       "  <tbody>\n",
       "    <tr>\n",
       "      <th>0</th>\n",
       "      <td>A</td>\n",
       "      <td>3</td>\n",
       "    </tr>\n",
       "    <tr>\n",
       "      <th>1</th>\n",
       "      <td>B</td>\n",
       "      <td>3</td>\n",
       "    </tr>\n",
       "    <tr>\n",
       "      <th>2</th>\n",
       "      <td>C</td>\n",
       "      <td>3</td>\n",
       "    </tr>\n",
       "  </tbody>\n",
       "</table>\n",
       "</div>"
      ],
      "text/plain": [
       "  ExaminationRoom  Number\n",
       "0               A       3\n",
       "1               B       3\n",
       "2               C       3"
      ]
     },
     "execution_count": 22,
     "metadata": {},
     "output_type": "execute_result"
    }
   ],
   "source": [
    "q = \"\"\"\n",
    "SELECT ExaminationRoom, COUNT(AppointmentID) AS Number FROM Appointment\n",
    "GROUP BY ExaminationRoom;\n",
    "\"\"\"\n",
    "\n",
    "pd.read_sql(q,conn)"
   ]
  },
  {
   "cell_type": "markdown",
   "metadata": {},
   "source": [
    "## Q9: Obtain the names of all patients (also include, for each patient, the name of the patient's primary care physician), such that \\emph{all} the following are true:\n",
    "\n",
    "- The patient has been prescribed some medication by his/her primary care physician.\n",
    "- The patient has undergone a procedure with a cost larger that $5,000\n",
    "- The patient has had at least two appointment where the nurse who prepped the appointment was a registered nurse.\n",
    "- The patient's primary care physician is not the head of any department."
   ]
  },
  {
   "cell_type": "code",
   "execution_count": 23,
   "metadata": {
    "ExecuteTime": {
     "end_time": "2021-04-24T01:42:51.952906Z",
     "start_time": "2021-04-24T01:42:51.940426Z"
    }
   },
   "outputs": [
    {
     "data": {
      "text/html": [
       "<div>\n",
       "<style scoped>\n",
       "    .dataframe tbody tr th:only-of-type {\n",
       "        vertical-align: middle;\n",
       "    }\n",
       "\n",
       "    .dataframe tbody tr th {\n",
       "        vertical-align: top;\n",
       "    }\n",
       "\n",
       "    .dataframe thead th {\n",
       "        text-align: right;\n",
       "    }\n",
       "</style>\n",
       "<table border=\"1\" class=\"dataframe\">\n",
       "  <thead>\n",
       "    <tr style=\"text-align: right;\">\n",
       "      <th></th>\n",
       "      <th>Name</th>\n",
       "      <th>Name</th>\n",
       "    </tr>\n",
       "  </thead>\n",
       "  <tbody>\n",
       "    <tr>\n",
       "      <th>0</th>\n",
       "      <td>John Smith</td>\n",
       "      <td>John Dorian</td>\n",
       "    </tr>\n",
       "  </tbody>\n",
       "</table>\n",
       "</div>"
      ],
      "text/plain": [
       "         Name         Name\n",
       "0  John Smith  John Dorian"
      ]
     },
     "execution_count": 23,
     "metadata": {},
     "output_type": "execute_result"
    }
   ],
   "source": [
    "q = \"\"\"\n",
    "SELECT Pt.Name, PhPCP.Name FROM Patient Pt, Physician PhPCP\n",
    " WHERE Pt.PCP = PhPCP.EmployeeID\n",
    "   AND EXISTS\n",
    "       (\n",
    "         SELECT * FROM Prescribes Pr\n",
    "          WHERE Pr.Patient = Pt.SSN\n",
    "            AND Pr.Physician = Pt.PCP\n",
    "       )\n",
    "   AND EXISTS\n",
    "       (\n",
    "         SELECT * FROM Undergoes U, Procedure Pr\n",
    "          WHERE U.Procedure = Pr.Code\n",
    "            AND U.Patient = Pt.SSN\n",
    "            AND Pr.Cost > 5000\n",
    "       )\n",
    "   AND 2 <=\n",
    "       (\n",
    "         SELECT COUNT(A.AppointmentID) FROM Appointment A, Nurse N\n",
    "          WHERE A.PrepNurse = N.EmployeeID\n",
    "            AND N.Registered = 1\n",
    "       )\n",
    "   AND NOT Pt.PCP IN\n",
    "       (\n",
    "          SELECT Head FROM Department\n",
    "       );\n",
    "\"\"\"\n",
    "\n",
    "pd.read_sql(q,conn)"
   ]
  }
 ],
 "metadata": {
  "kernelspec": {
   "display_name": "Spark3",
   "language": "python",
   "name": "spk"
  },
  "language_info": {
   "codemirror_mode": {
    "name": "ipython",
    "version": 3
   },
   "file_extension": ".py",
   "mimetype": "text/x-python",
   "name": "python",
   "nbconvert_exporter": "python",
   "pygments_lexer": "ipython3",
   "version": "3.7.7"
  },
  "toc": {
   "base_numbering": 1,
   "nav_menu": {},
   "number_sections": true,
   "sideBar": true,
   "skip_h1_title": false,
   "title_cell": "Table of Contents",
   "title_sidebar": "Contents",
   "toc_cell": true,
   "toc_position": {},
   "toc_section_display": true,
   "toc_window_display": false
  }
 },
 "nbformat": 4,
 "nbformat_minor": 2
}
